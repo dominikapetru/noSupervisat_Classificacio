{
 "cells": [
  {
   "cell_type": "markdown",
   "id": "ded2a9ef-38cb-48b5-a211-c1df965846e6",
   "metadata": {},
   "source": [
    "# Unsupervised Machine Learning - Clustering"
   ]
  },
  {
   "cell_type": "markdown",
   "id": "c0602021-c34f-462b-9f33-6477ddd05a87",
   "metadata": {},
   "source": [
    "#### Imports"
   ]
  },
  {
   "cell_type": "code",
   "execution_count": 2,
   "id": "8f75aec0-1ba3-4062-94e5-05b1d3885804",
   "metadata": {},
   "outputs": [],
   "source": [
    "import numpy as np\n",
    "import pandas as pd\n",
    "import matplotlib.pyplot as plt\n",
    "import seaborn as sns\n",
    "from sklearn.model_selection import train_test_split\n",
    "import warnings\n",
    "warnings.filterwarnings('ignore')\n",
    "from sklearn.preprocessing import StandardScaler\n",
    "\n",
    "from kneed import KneeLocator\n",
    "from sklearn.datasets import make_blobs\n",
    "from sklearn.cluster import KMeans\n",
    "from sklearn.metrics import silhouette_score\n",
    "\n",
    "from sklearn.cluster import AgglomerativeClustering\n",
    "import scipy.cluster.hierarchy as shc\n",
    "\n",
    "from sklearn.cluster import DBSCAN\n",
    "from sklearn.metrics import adjusted_rand_score\n",
    "\n",
    "from sklearn.decomposition import PCA\n",
    "from sklearn.pipeline import Pipeline\n",
    "from sklearn.preprocessing import LabelEncoder, MinMaxScaler\n",
    "\n",
    "import math\n",
    "import statistics"
   ]
  },
  {
   "cell_type": "markdown",
   "id": "f1a650c5-94ff-444d-8a9a-8061156b2cbb",
   "metadata": {},
   "source": [
    "## Level 1"
   ]
  },
  {
   "cell_type": "markdown",
   "id": "9df9b1cb-0600-410c-9a73-c47134e46475",
   "metadata": {},
   "source": [
    "### Exercise 1"
   ]
  },
  {
   "cell_type": "markdown",
   "id": "dcb6099b-3f2a-44d7-8218-e35ac6b7474f",
   "metadata": {},
   "source": [
    "#### Classification of flights with K-means"
   ]
  },
  {
   "cell_type": "markdown",
   "id": "58e71736-1ba7-462b-be98-e25db93a10ff",
   "metadata": {},
   "source": [
    "Classification model for one airline - Delta Air Lines."
   ]
  },
  {
   "cell_type": "code",
   "execution_count": 5,
   "id": "dfb45a48-f891-457c-a67b-880517210086",
   "metadata": {},
   "outputs": [
    {
     "data": {
      "text/html": [
       "<div>\n",
       "<style scoped>\n",
       "    .dataframe tbody tr th:only-of-type {\n",
       "        vertical-align: middle;\n",
       "    }\n",
       "\n",
       "    .dataframe tbody tr th {\n",
       "        vertical-align: top;\n",
       "    }\n",
       "\n",
       "    .dataframe thead th {\n",
       "        text-align: right;\n",
       "    }\n",
       "</style>\n",
       "<table border=\"1\" class=\"dataframe\">\n",
       "  <thead>\n",
       "    <tr style=\"text-align: right;\">\n",
       "      <th></th>\n",
       "      <th>Unnamed: 0</th>\n",
       "      <th>Year</th>\n",
       "      <th>Month</th>\n",
       "      <th>DayofMonth</th>\n",
       "      <th>DayOfWeek</th>\n",
       "      <th>DepTime</th>\n",
       "      <th>CRSDepTime</th>\n",
       "      <th>ArrTime</th>\n",
       "      <th>CRSArrTime</th>\n",
       "      <th>UniqueCarrier</th>\n",
       "      <th>...</th>\n",
       "      <th>TaxiIn</th>\n",
       "      <th>TaxiOut</th>\n",
       "      <th>Cancelled</th>\n",
       "      <th>CancellationCode</th>\n",
       "      <th>Diverted</th>\n",
       "      <th>CarrierDelay</th>\n",
       "      <th>WeatherDelay</th>\n",
       "      <th>NASDelay</th>\n",
       "      <th>SecurityDelay</th>\n",
       "      <th>LateAircraftDelay</th>\n",
       "    </tr>\n",
       "  </thead>\n",
       "  <tbody>\n",
       "    <tr>\n",
       "      <th>0</th>\n",
       "      <td>0</td>\n",
       "      <td>2008</td>\n",
       "      <td>1</td>\n",
       "      <td>3</td>\n",
       "      <td>4</td>\n",
       "      <td>2003.0</td>\n",
       "      <td>1955</td>\n",
       "      <td>2211.0</td>\n",
       "      <td>2225</td>\n",
       "      <td>WN</td>\n",
       "      <td>...</td>\n",
       "      <td>4.0</td>\n",
       "      <td>8.0</td>\n",
       "      <td>0</td>\n",
       "      <td>N</td>\n",
       "      <td>0</td>\n",
       "      <td>NaN</td>\n",
       "      <td>NaN</td>\n",
       "      <td>NaN</td>\n",
       "      <td>NaN</td>\n",
       "      <td>NaN</td>\n",
       "    </tr>\n",
       "    <tr>\n",
       "      <th>1</th>\n",
       "      <td>1</td>\n",
       "      <td>2008</td>\n",
       "      <td>1</td>\n",
       "      <td>3</td>\n",
       "      <td>4</td>\n",
       "      <td>754.0</td>\n",
       "      <td>735</td>\n",
       "      <td>1002.0</td>\n",
       "      <td>1000</td>\n",
       "      <td>WN</td>\n",
       "      <td>...</td>\n",
       "      <td>5.0</td>\n",
       "      <td>10.0</td>\n",
       "      <td>0</td>\n",
       "      <td>N</td>\n",
       "      <td>0</td>\n",
       "      <td>NaN</td>\n",
       "      <td>NaN</td>\n",
       "      <td>NaN</td>\n",
       "      <td>NaN</td>\n",
       "      <td>NaN</td>\n",
       "    </tr>\n",
       "    <tr>\n",
       "      <th>2</th>\n",
       "      <td>2</td>\n",
       "      <td>2008</td>\n",
       "      <td>1</td>\n",
       "      <td>3</td>\n",
       "      <td>4</td>\n",
       "      <td>628.0</td>\n",
       "      <td>620</td>\n",
       "      <td>804.0</td>\n",
       "      <td>750</td>\n",
       "      <td>WN</td>\n",
       "      <td>...</td>\n",
       "      <td>3.0</td>\n",
       "      <td>17.0</td>\n",
       "      <td>0</td>\n",
       "      <td>N</td>\n",
       "      <td>0</td>\n",
       "      <td>NaN</td>\n",
       "      <td>NaN</td>\n",
       "      <td>NaN</td>\n",
       "      <td>NaN</td>\n",
       "      <td>NaN</td>\n",
       "    </tr>\n",
       "  </tbody>\n",
       "</table>\n",
       "<p>3 rows × 30 columns</p>\n",
       "</div>"
      ],
      "text/plain": [
       "   Unnamed: 0  Year  Month  DayofMonth  DayOfWeek  DepTime  CRSDepTime  \\\n",
       "0           0  2008      1           3          4   2003.0        1955   \n",
       "1           1  2008      1           3          4    754.0         735   \n",
       "2           2  2008      1           3          4    628.0         620   \n",
       "\n",
       "   ArrTime  CRSArrTime UniqueCarrier  ...  TaxiIn TaxiOut  Cancelled  \\\n",
       "0   2211.0        2225            WN  ...     4.0     8.0          0   \n",
       "1   1002.0        1000            WN  ...     5.0    10.0          0   \n",
       "2    804.0         750            WN  ...     3.0    17.0          0   \n",
       "\n",
       "   CancellationCode  Diverted  CarrierDelay  WeatherDelay NASDelay  \\\n",
       "0                 N         0           NaN           NaN      NaN   \n",
       "1                 N         0           NaN           NaN      NaN   \n",
       "2                 N         0           NaN           NaN      NaN   \n",
       "\n",
       "  SecurityDelay  LateAircraftDelay  \n",
       "0           NaN                NaN  \n",
       "1           NaN                NaN  \n",
       "2           NaN                NaN  \n",
       "\n",
       "[3 rows x 30 columns]"
      ]
     },
     "execution_count": 5,
     "metadata": {},
     "output_type": "execute_result"
    }
   ],
   "source": [
    "df = pd.read_csv(\"DelayedFlights.csv\")\n",
    "df.head(3)"
   ]
  },
  {
   "cell_type": "code",
   "execution_count": 4,
   "id": "8b6b96a0-c3f0-4fce-816c-f4971dcf46ba",
   "metadata": {},
   "outputs": [
    {
     "data": {
      "text/html": [
       "<div>\n",
       "<style scoped>\n",
       "    .dataframe tbody tr th:only-of-type {\n",
       "        vertical-align: middle;\n",
       "    }\n",
       "\n",
       "    .dataframe tbody tr th {\n",
       "        vertical-align: top;\n",
       "    }\n",
       "\n",
       "    .dataframe thead th {\n",
       "        text-align: right;\n",
       "    }\n",
       "</style>\n",
       "<table border=\"1\" class=\"dataframe\">\n",
       "  <thead>\n",
       "    <tr style=\"text-align: right;\">\n",
       "      <th></th>\n",
       "      <th>Unnamed: 0</th>\n",
       "      <th>Year</th>\n",
       "      <th>Month</th>\n",
       "      <th>DayofMonth</th>\n",
       "      <th>DayOfWeek</th>\n",
       "      <th>DepTime</th>\n",
       "      <th>CRSDepTime</th>\n",
       "      <th>ArrTime</th>\n",
       "      <th>CRSArrTime</th>\n",
       "      <th>FlightNum</th>\n",
       "      <th>...</th>\n",
       "      <th>Distance</th>\n",
       "      <th>TaxiIn</th>\n",
       "      <th>TaxiOut</th>\n",
       "      <th>Cancelled</th>\n",
       "      <th>Diverted</th>\n",
       "      <th>CarrierDelay</th>\n",
       "      <th>WeatherDelay</th>\n",
       "      <th>NASDelay</th>\n",
       "      <th>SecurityDelay</th>\n",
       "      <th>LateAircraftDelay</th>\n",
       "    </tr>\n",
       "  </thead>\n",
       "  <tbody>\n",
       "    <tr>\n",
       "      <th>count</th>\n",
       "      <td>1.936758e+06</td>\n",
       "      <td>1936758.0</td>\n",
       "      <td>1.936758e+06</td>\n",
       "      <td>1.936758e+06</td>\n",
       "      <td>1.936758e+06</td>\n",
       "      <td>1.936758e+06</td>\n",
       "      <td>1.936758e+06</td>\n",
       "      <td>1.929648e+06</td>\n",
       "      <td>1.936758e+06</td>\n",
       "      <td>1.936758e+06</td>\n",
       "      <td>...</td>\n",
       "      <td>1.936758e+06</td>\n",
       "      <td>1.929648e+06</td>\n",
       "      <td>1.936303e+06</td>\n",
       "      <td>1.936758e+06</td>\n",
       "      <td>1.936758e+06</td>\n",
       "      <td>1.247488e+06</td>\n",
       "      <td>1.247488e+06</td>\n",
       "      <td>1.247488e+06</td>\n",
       "      <td>1.247488e+06</td>\n",
       "      <td>1.247488e+06</td>\n",
       "    </tr>\n",
       "    <tr>\n",
       "      <th>mean</th>\n",
       "      <td>3.341651e+06</td>\n",
       "      <td>2008.0</td>\n",
       "      <td>6.111106e+00</td>\n",
       "      <td>1.575347e+01</td>\n",
       "      <td>3.984827e+00</td>\n",
       "      <td>1.518534e+03</td>\n",
       "      <td>1.467473e+03</td>\n",
       "      <td>1.610141e+03</td>\n",
       "      <td>1.634225e+03</td>\n",
       "      <td>2.184263e+03</td>\n",
       "      <td>...</td>\n",
       "      <td>7.656862e+02</td>\n",
       "      <td>6.812975e+00</td>\n",
       "      <td>1.823220e+01</td>\n",
       "      <td>3.268348e-04</td>\n",
       "      <td>4.003598e-03</td>\n",
       "      <td>1.917940e+01</td>\n",
       "      <td>3.703571e+00</td>\n",
       "      <td>1.502164e+01</td>\n",
       "      <td>9.013714e-02</td>\n",
       "      <td>2.529647e+01</td>\n",
       "    </tr>\n",
       "    <tr>\n",
       "      <th>std</th>\n",
       "      <td>2.066065e+06</td>\n",
       "      <td>0.0</td>\n",
       "      <td>3.482546e+00</td>\n",
       "      <td>8.776272e+00</td>\n",
       "      <td>1.995966e+00</td>\n",
       "      <td>4.504853e+02</td>\n",
       "      <td>4.247668e+02</td>\n",
       "      <td>5.481781e+02</td>\n",
       "      <td>4.646347e+02</td>\n",
       "      <td>1.944702e+03</td>\n",
       "      <td>...</td>\n",
       "      <td>5.744797e+02</td>\n",
       "      <td>5.273595e+00</td>\n",
       "      <td>1.433853e+01</td>\n",
       "      <td>1.807562e-02</td>\n",
       "      <td>6.314722e-02</td>\n",
       "      <td>4.354621e+01</td>\n",
       "      <td>2.149290e+01</td>\n",
       "      <td>3.383305e+01</td>\n",
       "      <td>2.022714e+00</td>\n",
       "      <td>4.205486e+01</td>\n",
       "    </tr>\n",
       "    <tr>\n",
       "      <th>min</th>\n",
       "      <td>0.000000e+00</td>\n",
       "      <td>2008.0</td>\n",
       "      <td>1.000000e+00</td>\n",
       "      <td>1.000000e+00</td>\n",
       "      <td>1.000000e+00</td>\n",
       "      <td>1.000000e+00</td>\n",
       "      <td>0.000000e+00</td>\n",
       "      <td>1.000000e+00</td>\n",
       "      <td>0.000000e+00</td>\n",
       "      <td>1.000000e+00</td>\n",
       "      <td>...</td>\n",
       "      <td>1.100000e+01</td>\n",
       "      <td>0.000000e+00</td>\n",
       "      <td>0.000000e+00</td>\n",
       "      <td>0.000000e+00</td>\n",
       "      <td>0.000000e+00</td>\n",
       "      <td>0.000000e+00</td>\n",
       "      <td>0.000000e+00</td>\n",
       "      <td>0.000000e+00</td>\n",
       "      <td>0.000000e+00</td>\n",
       "      <td>0.000000e+00</td>\n",
       "    </tr>\n",
       "    <tr>\n",
       "      <th>25%</th>\n",
       "      <td>1.517452e+06</td>\n",
       "      <td>2008.0</td>\n",
       "      <td>3.000000e+00</td>\n",
       "      <td>8.000000e+00</td>\n",
       "      <td>2.000000e+00</td>\n",
       "      <td>1.203000e+03</td>\n",
       "      <td>1.135000e+03</td>\n",
       "      <td>1.316000e+03</td>\n",
       "      <td>1.325000e+03</td>\n",
       "      <td>6.100000e+02</td>\n",
       "      <td>...</td>\n",
       "      <td>3.380000e+02</td>\n",
       "      <td>4.000000e+00</td>\n",
       "      <td>1.000000e+01</td>\n",
       "      <td>0.000000e+00</td>\n",
       "      <td>0.000000e+00</td>\n",
       "      <td>0.000000e+00</td>\n",
       "      <td>0.000000e+00</td>\n",
       "      <td>0.000000e+00</td>\n",
       "      <td>0.000000e+00</td>\n",
       "      <td>0.000000e+00</td>\n",
       "    </tr>\n",
       "    <tr>\n",
       "      <th>50%</th>\n",
       "      <td>3.242558e+06</td>\n",
       "      <td>2008.0</td>\n",
       "      <td>6.000000e+00</td>\n",
       "      <td>1.600000e+01</td>\n",
       "      <td>4.000000e+00</td>\n",
       "      <td>1.545000e+03</td>\n",
       "      <td>1.510000e+03</td>\n",
       "      <td>1.715000e+03</td>\n",
       "      <td>1.705000e+03</td>\n",
       "      <td>1.543000e+03</td>\n",
       "      <td>...</td>\n",
       "      <td>6.060000e+02</td>\n",
       "      <td>6.000000e+00</td>\n",
       "      <td>1.400000e+01</td>\n",
       "      <td>0.000000e+00</td>\n",
       "      <td>0.000000e+00</td>\n",
       "      <td>2.000000e+00</td>\n",
       "      <td>0.000000e+00</td>\n",
       "      <td>2.000000e+00</td>\n",
       "      <td>0.000000e+00</td>\n",
       "      <td>8.000000e+00</td>\n",
       "    </tr>\n",
       "    <tr>\n",
       "      <th>75%</th>\n",
       "      <td>4.972467e+06</td>\n",
       "      <td>2008.0</td>\n",
       "      <td>9.000000e+00</td>\n",
       "      <td>2.300000e+01</td>\n",
       "      <td>6.000000e+00</td>\n",
       "      <td>1.900000e+03</td>\n",
       "      <td>1.815000e+03</td>\n",
       "      <td>2.030000e+03</td>\n",
       "      <td>2.014000e+03</td>\n",
       "      <td>3.422000e+03</td>\n",
       "      <td>...</td>\n",
       "      <td>9.980000e+02</td>\n",
       "      <td>8.000000e+00</td>\n",
       "      <td>2.100000e+01</td>\n",
       "      <td>0.000000e+00</td>\n",
       "      <td>0.000000e+00</td>\n",
       "      <td>2.100000e+01</td>\n",
       "      <td>0.000000e+00</td>\n",
       "      <td>1.500000e+01</td>\n",
       "      <td>0.000000e+00</td>\n",
       "      <td>3.300000e+01</td>\n",
       "    </tr>\n",
       "    <tr>\n",
       "      <th>max</th>\n",
       "      <td>7.009727e+06</td>\n",
       "      <td>2008.0</td>\n",
       "      <td>1.200000e+01</td>\n",
       "      <td>3.100000e+01</td>\n",
       "      <td>7.000000e+00</td>\n",
       "      <td>2.400000e+03</td>\n",
       "      <td>2.359000e+03</td>\n",
       "      <td>2.400000e+03</td>\n",
       "      <td>2.400000e+03</td>\n",
       "      <td>9.742000e+03</td>\n",
       "      <td>...</td>\n",
       "      <td>4.962000e+03</td>\n",
       "      <td>2.400000e+02</td>\n",
       "      <td>4.220000e+02</td>\n",
       "      <td>1.000000e+00</td>\n",
       "      <td>1.000000e+00</td>\n",
       "      <td>2.436000e+03</td>\n",
       "      <td>1.352000e+03</td>\n",
       "      <td>1.357000e+03</td>\n",
       "      <td>3.920000e+02</td>\n",
       "      <td>1.316000e+03</td>\n",
       "    </tr>\n",
       "  </tbody>\n",
       "</table>\n",
       "<p>8 rows × 25 columns</p>\n",
       "</div>"
      ],
      "text/plain": [
       "         Unnamed: 0       Year         Month    DayofMonth     DayOfWeek  \\\n",
       "count  1.936758e+06  1936758.0  1.936758e+06  1.936758e+06  1.936758e+06   \n",
       "mean   3.341651e+06     2008.0  6.111106e+00  1.575347e+01  3.984827e+00   \n",
       "std    2.066065e+06        0.0  3.482546e+00  8.776272e+00  1.995966e+00   \n",
       "min    0.000000e+00     2008.0  1.000000e+00  1.000000e+00  1.000000e+00   \n",
       "25%    1.517452e+06     2008.0  3.000000e+00  8.000000e+00  2.000000e+00   \n",
       "50%    3.242558e+06     2008.0  6.000000e+00  1.600000e+01  4.000000e+00   \n",
       "75%    4.972467e+06     2008.0  9.000000e+00  2.300000e+01  6.000000e+00   \n",
       "max    7.009727e+06     2008.0  1.200000e+01  3.100000e+01  7.000000e+00   \n",
       "\n",
       "            DepTime    CRSDepTime       ArrTime    CRSArrTime     FlightNum  \\\n",
       "count  1.936758e+06  1.936758e+06  1.929648e+06  1.936758e+06  1.936758e+06   \n",
       "mean   1.518534e+03  1.467473e+03  1.610141e+03  1.634225e+03  2.184263e+03   \n",
       "std    4.504853e+02  4.247668e+02  5.481781e+02  4.646347e+02  1.944702e+03   \n",
       "min    1.000000e+00  0.000000e+00  1.000000e+00  0.000000e+00  1.000000e+00   \n",
       "25%    1.203000e+03  1.135000e+03  1.316000e+03  1.325000e+03  6.100000e+02   \n",
       "50%    1.545000e+03  1.510000e+03  1.715000e+03  1.705000e+03  1.543000e+03   \n",
       "75%    1.900000e+03  1.815000e+03  2.030000e+03  2.014000e+03  3.422000e+03   \n",
       "max    2.400000e+03  2.359000e+03  2.400000e+03  2.400000e+03  9.742000e+03   \n",
       "\n",
       "       ...      Distance        TaxiIn       TaxiOut     Cancelled  \\\n",
       "count  ...  1.936758e+06  1.929648e+06  1.936303e+06  1.936758e+06   \n",
       "mean   ...  7.656862e+02  6.812975e+00  1.823220e+01  3.268348e-04   \n",
       "std    ...  5.744797e+02  5.273595e+00  1.433853e+01  1.807562e-02   \n",
       "min    ...  1.100000e+01  0.000000e+00  0.000000e+00  0.000000e+00   \n",
       "25%    ...  3.380000e+02  4.000000e+00  1.000000e+01  0.000000e+00   \n",
       "50%    ...  6.060000e+02  6.000000e+00  1.400000e+01  0.000000e+00   \n",
       "75%    ...  9.980000e+02  8.000000e+00  2.100000e+01  0.000000e+00   \n",
       "max    ...  4.962000e+03  2.400000e+02  4.220000e+02  1.000000e+00   \n",
       "\n",
       "           Diverted  CarrierDelay  WeatherDelay      NASDelay  SecurityDelay  \\\n",
       "count  1.936758e+06  1.247488e+06  1.247488e+06  1.247488e+06   1.247488e+06   \n",
       "mean   4.003598e-03  1.917940e+01  3.703571e+00  1.502164e+01   9.013714e-02   \n",
       "std    6.314722e-02  4.354621e+01  2.149290e+01  3.383305e+01   2.022714e+00   \n",
       "min    0.000000e+00  0.000000e+00  0.000000e+00  0.000000e+00   0.000000e+00   \n",
       "25%    0.000000e+00  0.000000e+00  0.000000e+00  0.000000e+00   0.000000e+00   \n",
       "50%    0.000000e+00  2.000000e+00  0.000000e+00  2.000000e+00   0.000000e+00   \n",
       "75%    0.000000e+00  2.100000e+01  0.000000e+00  1.500000e+01   0.000000e+00   \n",
       "max    1.000000e+00  2.436000e+03  1.352000e+03  1.357000e+03   3.920000e+02   \n",
       "\n",
       "       LateAircraftDelay  \n",
       "count       1.247488e+06  \n",
       "mean        2.529647e+01  \n",
       "std         4.205486e+01  \n",
       "min         0.000000e+00  \n",
       "25%         0.000000e+00  \n",
       "50%         8.000000e+00  \n",
       "75%         3.300000e+01  \n",
       "max         1.316000e+03  \n",
       "\n",
       "[8 rows x 25 columns]"
      ]
     },
     "execution_count": 4,
     "metadata": {},
     "output_type": "execute_result"
    }
   ],
   "source": [
    "df.describe()"
   ]
  },
  {
   "cell_type": "code",
   "execution_count": 9,
   "id": "4c213280-5135-4b2a-b7a4-545569f832bf",
   "metadata": {},
   "outputs": [],
   "source": [
    "#selecting \n",
    "df_flights = df.loc[df['UniqueCarrier'] == 'DL']"
   ]
  },
  {
   "cell_type": "code",
   "execution_count": 10,
   "id": "9f00ea2c-6ce9-4168-ba2f-399926600a09",
   "metadata": {},
   "outputs": [],
   "source": [
    "#clean the data, feature I will not use, for clustering I will select only numeric features\n",
    "df_flights.drop(['Unnamed: 0','Year','FlightNum','TailNum','CancellationCode','UniqueCarrier'],axis=1, inplace=True)"
   ]
  },
  {
   "cell_type": "code",
   "execution_count": 11,
   "id": "8dbddced-04dd-431e-b9d5-013c26638953",
   "metadata": {},
   "outputs": [
    {
     "data": {
      "text/plain": [
       "Index(['Month', 'DayofMonth', 'DayOfWeek', 'DepTime', 'CRSDepTime', 'ArrTime',\n",
       "       'CRSArrTime', 'ActualElapsedTime', 'CRSElapsedTime', 'AirTime',\n",
       "       'ArrDelay', 'DepDelay', 'Origin', 'Dest', 'Distance', 'TaxiIn',\n",
       "       'TaxiOut', 'Cancelled', 'Diverted', 'CarrierDelay', 'WeatherDelay',\n",
       "       'NASDelay', 'SecurityDelay', 'LateAircraftDelay'],\n",
       "      dtype='object')"
      ]
     },
     "execution_count": 11,
     "metadata": {},
     "output_type": "execute_result"
    }
   ],
   "source": [
    "df_flights.columns"
   ]
  },
  {
   "cell_type": "code",
   "execution_count": 12,
   "id": "2a6738ab-5f0e-44e0-909d-17717adbae1f",
   "metadata": {},
   "outputs": [
    {
     "name": "stdout",
     "output_type": "stream",
     "text": [
      "0\n"
     ]
    }
   ],
   "source": [
    "#dealing fith cathegorical variables 'Origin', 'Dest'\n",
    "cat_df_flights = df_flights.select_dtypes(include=['object']).copy()\n",
    "print(cat_df_flights.isnull().values.sum())#do I have some null values?"
   ]
  },
  {
   "cell_type": "code",
   "execution_count": 13,
   "id": "f0122715-29d2-4038-ac9b-0f5a6891399d",
   "metadata": {},
   "outputs": [
    {
     "name": "stdout",
     "output_type": "stream",
     "text": [
      "['STL', 'GSO', 'LIH', 'PWM', 'JAN', 'FLL', 'MSY', 'OGG', 'ATL', 'SLC', 'MTJ', 'GPT', 'LEX', 'MIA', 'PNS', 'IND', 'SMF', 'CHS', 'DAB', 'SDF', 'JFK', 'GEG', 'CLE', 'SJU', 'ROC', 'IAH', 'TYS', 'PHX', 'BOS', 'BZN', 'SFO', 'VPS', 'ONT', 'TUS', 'BUF', 'CMH', 'DCA', 'CAE', 'BHM', 'FCA', 'STX', 'DFW', 'RDU', 'DTW', 'SNA', 'BOI', 'ORD', 'MEM', 'OKC', 'PHF', 'LAX', 'MCI', 'PHL', 'GSP', 'MCO', 'ORF', 'RIC', 'SAV', 'MOB', 'HNL', 'MKE', 'OAK', 'SAN', 'RSW', 'CLT', 'MSP', 'LGA', 'EGE', 'ANC', 'DAY', 'RNO', 'IAD', 'BNA', 'STT', 'JAX', 'CAK', 'PIT', 'JAC', 'SAT', 'ABQ', 'LAS', 'AUS', 'TPA', 'MLB', 'SRQ', 'CVG', 'COS', 'LIT', 'BWI', 'HDN', 'DEN', 'PDX', 'SJC', 'HSV', 'FAI', 'TLH', 'GUC', 'EWR', 'PBI', 'ELP', 'BDL', 'SEA', 'HOU', 'KOA']\n"
     ]
    }
   ],
   "source": [
    "#list of all airports\n",
    "first_list = cat_df_flights['Origin'].tolist()\n",
    "second_list = cat_df_flights['Dest'].tolist()\n",
    "resultList= list(set(first_list) | set(second_list))\n",
    "print(resultList)"
   ]
  },
  {
   "cell_type": "code",
   "execution_count": 14,
   "id": "3af8403f-015c-4765-88b7-05c21f16554f",
   "metadata": {},
   "outputs": [],
   "source": [
    "labels = resultList\n",
    "replace_map1 = {'Origin' : {k: v for k,v in zip(labels,list(range(1,len(labels)+1)))}}\n",
    "replace_map2 = {'Dest' : {k: v for k,v in zip(labels,list(range(1,len(labels)+1)))}}"
   ]
  },
  {
   "cell_type": "code",
   "execution_count": 15,
   "id": "17fb8d7b-a867-42d1-8010-9d150976f854",
   "metadata": {},
   "outputs": [
    {
     "name": "stdout",
     "output_type": "stream",
     "text": [
      "95860      89\n",
      "95861       9\n",
      "95862      53\n",
      "95863      81\n",
      "95864      10\n",
      "           ..\n",
      "1936753    66\n",
      "1936754    57\n",
      "1936755     9\n",
      "1936756    72\n",
      "1936757    79\n",
      "Name: Origin, Length: 114238, dtype: int64 95860       9\n",
      "95861      14\n",
      "95862       9\n",
      "95863      10\n",
      "95864      89\n",
      "           ..\n",
      "1936753     9\n",
      "1936754     9\n",
      "1936755    26\n",
      "1936756     9\n",
      "1936757     9\n",
      "Name: Dest, Length: 114238, dtype: int64\n"
     ]
    }
   ],
   "source": [
    "#apply map to columns Origin and Dest, numbers assigned to airports are the same in both columns\n",
    "df_flights.replace(replace_map1, inplace=True)\n",
    "df_flights.replace(replace_map2, inplace=True)\n",
    "print(df_flights['Origin'],df_flights['Dest'])"
   ]
  },
  {
   "cell_type": "code",
   "execution_count": 16,
   "id": "6a412577-22d1-45de-894f-cdcb190a83f3",
   "metadata": {
    "tags": []
   },
   "outputs": [
    {
     "data": {
      "text/plain": [
       "Month                    0\n",
       "DayofMonth               0\n",
       "DayOfWeek                0\n",
       "DepTime                  0\n",
       "CRSDepTime               0\n",
       "ArrTime                426\n",
       "CRSArrTime               0\n",
       "ActualElapsedTime      510\n",
       "CRSElapsedTime           0\n",
       "AirTime                510\n",
       "ArrDelay               510\n",
       "DepDelay                 0\n",
       "Origin                   0\n",
       "Dest                     0\n",
       "Distance                 0\n",
       "TaxiIn                 426\n",
       "TaxiOut                 17\n",
       "Cancelled                0\n",
       "Diverted                 0\n",
       "CarrierDelay         41986\n",
       "WeatherDelay         41986\n",
       "NASDelay             41986\n",
       "SecurityDelay        41986\n",
       "LateAircraftDelay    41986\n",
       "dtype: int64"
      ]
     },
     "execution_count": 16,
     "metadata": {},
     "output_type": "execute_result"
    }
   ],
   "source": [
    "#missing data?\n",
    "df_flights.isnull().sum()"
   ]
  },
  {
   "cell_type": "code",
   "execution_count": 17,
   "id": "3f75662f-c8c0-4cc8-90d8-0336808fe381",
   "metadata": {},
   "outputs": [],
   "source": [
    "#calculating mean value for missing data\n",
    "def myfunc(x):\n",
    "    df_flights[x]=df_flights[x].fillna(df_flights[x].mean())\n",
    "\n",
    "mylist = ['ArrTime','ActualElapsedTime','AirTime','ArrDelay',\n",
    "          'TaxiIn','TaxiOut','CarrierDelay','WeatherDelay',\n",
    "          'NASDelay','SecurityDelay','LateAircraftDelay']\n",
    "for x in mylist:\n",
    "    myfunc(x)"
   ]
  },
  {
   "cell_type": "code",
   "execution_count": 18,
   "id": "e493a772-6262-46f3-8330-0bbafb6220e9",
   "metadata": {},
   "outputs": [
    {
     "data": {
      "text/html": [
       "<div>\n",
       "<style scoped>\n",
       "    .dataframe tbody tr th:only-of-type {\n",
       "        vertical-align: middle;\n",
       "    }\n",
       "\n",
       "    .dataframe tbody tr th {\n",
       "        vertical-align: top;\n",
       "    }\n",
       "\n",
       "    .dataframe thead th {\n",
       "        text-align: right;\n",
       "    }\n",
       "</style>\n",
       "<table border=\"1\" class=\"dataframe\">\n",
       "  <thead>\n",
       "    <tr style=\"text-align: right;\">\n",
       "      <th></th>\n",
       "      <th>Month</th>\n",
       "      <th>DayofMonth</th>\n",
       "      <th>DayOfWeek</th>\n",
       "      <th>DepTime</th>\n",
       "      <th>CRSDepTime</th>\n",
       "      <th>ArrTime</th>\n",
       "      <th>CRSArrTime</th>\n",
       "      <th>ActualElapsedTime</th>\n",
       "      <th>CRSElapsedTime</th>\n",
       "      <th>AirTime</th>\n",
       "      <th>...</th>\n",
       "      <th>Distance</th>\n",
       "      <th>TaxiIn</th>\n",
       "      <th>TaxiOut</th>\n",
       "      <th>Cancelled</th>\n",
       "      <th>Diverted</th>\n",
       "      <th>CarrierDelay</th>\n",
       "      <th>WeatherDelay</th>\n",
       "      <th>NASDelay</th>\n",
       "      <th>SecurityDelay</th>\n",
       "      <th>LateAircraftDelay</th>\n",
       "    </tr>\n",
       "  </thead>\n",
       "  <tbody>\n",
       "    <tr>\n",
       "      <th>95860</th>\n",
       "      <td>1</td>\n",
       "      <td>15</td>\n",
       "      <td>2</td>\n",
       "      <td>1731.0</td>\n",
       "      <td>1725</td>\n",
       "      <td>1921.0</td>\n",
       "      <td>1934</td>\n",
       "      <td>110.0</td>\n",
       "      <td>129.0</td>\n",
       "      <td>90.0</td>\n",
       "      <td>...</td>\n",
       "      <td>576</td>\n",
       "      <td>5.0</td>\n",
       "      <td>15.0</td>\n",
       "      <td>0</td>\n",
       "      <td>0</td>\n",
       "      <td>19.531916</td>\n",
       "      <td>2.313071</td>\n",
       "      <td>16.832724</td>\n",
       "      <td>0.018892</td>\n",
       "      <td>22.146903</td>\n",
       "    </tr>\n",
       "    <tr>\n",
       "      <th>95861</th>\n",
       "      <td>1</td>\n",
       "      <td>15</td>\n",
       "      <td>2</td>\n",
       "      <td>1227.0</td>\n",
       "      <td>1210</td>\n",
       "      <td>1425.0</td>\n",
       "      <td>1358</td>\n",
       "      <td>118.0</td>\n",
       "      <td>108.0</td>\n",
       "      <td>82.0</td>\n",
       "      <td>...</td>\n",
       "      <td>595</td>\n",
       "      <td>8.0</td>\n",
       "      <td>28.0</td>\n",
       "      <td>0</td>\n",
       "      <td>0</td>\n",
       "      <td>17.000000</td>\n",
       "      <td>0.000000</td>\n",
       "      <td>10.000000</td>\n",
       "      <td>0.000000</td>\n",
       "      <td>0.000000</td>\n",
       "    </tr>\n",
       "    <tr>\n",
       "      <th>95862</th>\n",
       "      <td>1</td>\n",
       "      <td>15</td>\n",
       "      <td>2</td>\n",
       "      <td>1001.0</td>\n",
       "      <td>954</td>\n",
       "      <td>1222.0</td>\n",
       "      <td>1227</td>\n",
       "      <td>141.0</td>\n",
       "      <td>153.0</td>\n",
       "      <td>104.0</td>\n",
       "      <td>...</td>\n",
       "      <td>665</td>\n",
       "      <td>5.0</td>\n",
       "      <td>32.0</td>\n",
       "      <td>0</td>\n",
       "      <td>0</td>\n",
       "      <td>19.531916</td>\n",
       "      <td>2.313071</td>\n",
       "      <td>16.832724</td>\n",
       "      <td>0.018892</td>\n",
       "      <td>22.146903</td>\n",
       "    </tr>\n",
       "  </tbody>\n",
       "</table>\n",
       "<p>3 rows × 24 columns</p>\n",
       "</div>"
      ],
      "text/plain": [
       "       Month  DayofMonth  DayOfWeek  DepTime  CRSDepTime  ArrTime  CRSArrTime  \\\n",
       "95860      1          15          2   1731.0        1725   1921.0        1934   \n",
       "95861      1          15          2   1227.0        1210   1425.0        1358   \n",
       "95862      1          15          2   1001.0         954   1222.0        1227   \n",
       "\n",
       "       ActualElapsedTime  CRSElapsedTime  AirTime  ...  Distance  TaxiIn  \\\n",
       "95860              110.0           129.0     90.0  ...       576     5.0   \n",
       "95861              118.0           108.0     82.0  ...       595     8.0   \n",
       "95862              141.0           153.0    104.0  ...       665     5.0   \n",
       "\n",
       "       TaxiOut  Cancelled  Diverted  CarrierDelay  WeatherDelay   NASDelay  \\\n",
       "95860     15.0          0         0     19.531916      2.313071  16.832724   \n",
       "95861     28.0          0         0     17.000000      0.000000  10.000000   \n",
       "95862     32.0          0         0     19.531916      2.313071  16.832724   \n",
       "\n",
       "       SecurityDelay  LateAircraftDelay  \n",
       "95860       0.018892          22.146903  \n",
       "95861       0.000000           0.000000  \n",
       "95862       0.018892          22.146903  \n",
       "\n",
       "[3 rows x 24 columns]"
      ]
     },
     "execution_count": 18,
     "metadata": {},
     "output_type": "execute_result"
    }
   ],
   "source": [
    "df_flights.head(3)"
   ]
  },
  {
   "cell_type": "markdown",
   "id": "9080ee17-a66e-4aed-ae63-7d1b66a1b73e",
   "metadata": {
    "tags": []
   },
   "source": [
    "#### Test sample"
   ]
  },
  {
   "cell_type": "code",
   "execution_count": 19,
   "id": "0ce2f9cf-028b-4b74-93e4-e77da5cb5c7b",
   "metadata": {},
   "outputs": [
    {
     "data": {
      "text/html": [
       "<div>\n",
       "<style scoped>\n",
       "    .dataframe tbody tr th:only-of-type {\n",
       "        vertical-align: middle;\n",
       "    }\n",
       "\n",
       "    .dataframe tbody tr th {\n",
       "        vertical-align: top;\n",
       "    }\n",
       "\n",
       "    .dataframe thead th {\n",
       "        text-align: right;\n",
       "    }\n",
       "</style>\n",
       "<table border=\"1\" class=\"dataframe\">\n",
       "  <thead>\n",
       "    <tr style=\"text-align: right;\">\n",
       "      <th></th>\n",
       "      <th>Month</th>\n",
       "      <th>DayofMonth</th>\n",
       "      <th>DayOfWeek</th>\n",
       "      <th>DepTime</th>\n",
       "      <th>CRSDepTime</th>\n",
       "      <th>ArrTime</th>\n",
       "      <th>CRSArrTime</th>\n",
       "      <th>ActualElapsedTime</th>\n",
       "      <th>CRSElapsedTime</th>\n",
       "      <th>AirTime</th>\n",
       "      <th>...</th>\n",
       "      <th>Distance</th>\n",
       "      <th>TaxiIn</th>\n",
       "      <th>TaxiOut</th>\n",
       "      <th>Cancelled</th>\n",
       "      <th>Diverted</th>\n",
       "      <th>CarrierDelay</th>\n",
       "      <th>WeatherDelay</th>\n",
       "      <th>NASDelay</th>\n",
       "      <th>SecurityDelay</th>\n",
       "      <th>LateAircraftDelay</th>\n",
       "    </tr>\n",
       "  </thead>\n",
       "  <tbody>\n",
       "    <tr>\n",
       "      <th>95860</th>\n",
       "      <td>-1.616416</td>\n",
       "      <td>-0.089056</td>\n",
       "      <td>-1.017683</td>\n",
       "      <td>0.470116</td>\n",
       "      <td>0.584210</td>\n",
       "      <td>0.523789</td>\n",
       "      <td>0.590595</td>\n",
       "      <td>-0.628063</td>\n",
       "      <td>-0.398670</td>\n",
       "      <td>-0.507976</td>\n",
       "      <td>...</td>\n",
       "      <td>-0.565011</td>\n",
       "      <td>-0.593653</td>\n",
       "      <td>-0.49161</td>\n",
       "      <td>-0.01356</td>\n",
       "      <td>-0.065566</td>\n",
       "      <td>-1.048705e-16</td>\n",
       "      <td>-3.581207e-17</td>\n",
       "      <td>0.000000</td>\n",
       "      <td>0.000000</td>\n",
       "      <td>0.000000</td>\n",
       "    </tr>\n",
       "    <tr>\n",
       "      <th>95861</th>\n",
       "      <td>-1.616416</td>\n",
       "      <td>-0.089056</td>\n",
       "      <td>-1.017683</td>\n",
       "      <td>-0.614940</td>\n",
       "      <td>-0.589394</td>\n",
       "      <td>-0.381135</td>\n",
       "      <td>-0.669609</td>\n",
       "      <td>-0.534841</td>\n",
       "      <td>-0.643516</td>\n",
       "      <td>-0.604552</td>\n",
       "      <td>...</td>\n",
       "      <td>-0.537663</td>\n",
       "      <td>-0.129618</td>\n",
       "      <td>0.30779</td>\n",
       "      <td>-0.01356</td>\n",
       "      <td>-0.065566</td>\n",
       "      <td>-7.473814e-02</td>\n",
       "      <td>-1.865298e-01</td>\n",
       "      <td>-0.264767</td>\n",
       "      <td>-0.021751</td>\n",
       "      <td>-0.710433</td>\n",
       "    </tr>\n",
       "    <tr>\n",
       "      <th>95862</th>\n",
       "      <td>-1.616416</td>\n",
       "      <td>-0.089056</td>\n",
       "      <td>-1.017683</td>\n",
       "      <td>-1.101493</td>\n",
       "      <td>-1.172777</td>\n",
       "      <td>-0.751497</td>\n",
       "      <td>-0.956218</td>\n",
       "      <td>-0.266827</td>\n",
       "      <td>-0.118846</td>\n",
       "      <td>-0.338969</td>\n",
       "      <td>...</td>\n",
       "      <td>-0.436904</td>\n",
       "      <td>-0.593653</td>\n",
       "      <td>0.55376</td>\n",
       "      <td>-0.01356</td>\n",
       "      <td>-0.065566</td>\n",
       "      <td>-1.048705e-16</td>\n",
       "      <td>-3.581207e-17</td>\n",
       "      <td>0.000000</td>\n",
       "      <td>0.000000</td>\n",
       "      <td>0.000000</td>\n",
       "    </tr>\n",
       "  </tbody>\n",
       "</table>\n",
       "<p>3 rows × 24 columns</p>\n",
       "</div>"
      ],
      "text/plain": [
       "          Month  DayofMonth  DayOfWeek   DepTime  CRSDepTime   ArrTime  \\\n",
       "95860 -1.616416   -0.089056  -1.017683  0.470116    0.584210  0.523789   \n",
       "95861 -1.616416   -0.089056  -1.017683 -0.614940   -0.589394 -0.381135   \n",
       "95862 -1.616416   -0.089056  -1.017683 -1.101493   -1.172777 -0.751497   \n",
       "\n",
       "       CRSArrTime  ActualElapsedTime  CRSElapsedTime   AirTime  ...  Distance  \\\n",
       "95860    0.590595          -0.628063       -0.398670 -0.507976  ... -0.565011   \n",
       "95861   -0.669609          -0.534841       -0.643516 -0.604552  ... -0.537663   \n",
       "95862   -0.956218          -0.266827       -0.118846 -0.338969  ... -0.436904   \n",
       "\n",
       "         TaxiIn  TaxiOut  Cancelled  Diverted  CarrierDelay  WeatherDelay  \\\n",
       "95860 -0.593653 -0.49161   -0.01356 -0.065566 -1.048705e-16 -3.581207e-17   \n",
       "95861 -0.129618  0.30779   -0.01356 -0.065566 -7.473814e-02 -1.865298e-01   \n",
       "95862 -0.593653  0.55376   -0.01356 -0.065566 -1.048705e-16 -3.581207e-17   \n",
       "\n",
       "       NASDelay  SecurityDelay  LateAircraftDelay  \n",
       "95860  0.000000       0.000000           0.000000  \n",
       "95861 -0.264767      -0.021751          -0.710433  \n",
       "95862  0.000000       0.000000           0.000000  \n",
       "\n",
       "[3 rows x 24 columns]"
      ]
     },
     "execution_count": 19,
     "metadata": {},
     "output_type": "execute_result"
    }
   ],
   "source": [
    "#standartization\n",
    "scaler = StandardScaler()\n",
    "dfScaled = df_flights.copy()\n",
    "dfScaled[dfScaled.columns] = scaler.fit_transform(dfScaled[dfScaled.columns])\n",
    "dfScaled.head(3)"
   ]
  },
  {
   "cell_type": "code",
   "execution_count": 30,
   "id": "362b84a5-7255-40d7-8347-1a115281ab2a",
   "metadata": {},
   "outputs": [],
   "source": [
    "#simple random sample\n",
    "df_sample = dfScaled.sample(n = 100)"
   ]
  },
  {
   "cell_type": "code",
   "execution_count": 31,
   "id": "d3807686-ee92-4935-952c-a6401e6dc0bf",
   "metadata": {},
   "outputs": [
    {
     "data": {
      "text/html": [
       "<div>\n",
       "<style scoped>\n",
       "    .dataframe tbody tr th:only-of-type {\n",
       "        vertical-align: middle;\n",
       "    }\n",
       "\n",
       "    .dataframe tbody tr th {\n",
       "        vertical-align: top;\n",
       "    }\n",
       "\n",
       "    .dataframe thead th {\n",
       "        text-align: right;\n",
       "    }\n",
       "</style>\n",
       "<table border=\"1\" class=\"dataframe\">\n",
       "  <thead>\n",
       "    <tr style=\"text-align: right;\">\n",
       "      <th></th>\n",
       "      <th>Month</th>\n",
       "      <th>DayofMonth</th>\n",
       "      <th>DayOfWeek</th>\n",
       "      <th>DepTime</th>\n",
       "      <th>CRSDepTime</th>\n",
       "      <th>ArrTime</th>\n",
       "      <th>CRSArrTime</th>\n",
       "      <th>ActualElapsedTime</th>\n",
       "      <th>CRSElapsedTime</th>\n",
       "      <th>AirTime</th>\n",
       "      <th>...</th>\n",
       "      <th>Distance</th>\n",
       "      <th>TaxiIn</th>\n",
       "      <th>TaxiOut</th>\n",
       "      <th>Cancelled</th>\n",
       "      <th>Diverted</th>\n",
       "      <th>CarrierDelay</th>\n",
       "      <th>WeatherDelay</th>\n",
       "      <th>NASDelay</th>\n",
       "      <th>SecurityDelay</th>\n",
       "      <th>LateAircraftDelay</th>\n",
       "    </tr>\n",
       "  </thead>\n",
       "  <tbody>\n",
       "    <tr>\n",
       "      <th>569947</th>\n",
       "      <td>-1.037549</td>\n",
       "      <td>-0.893490</td>\n",
       "      <td>0.974453</td>\n",
       "      <td>1.346342</td>\n",
       "      <td>1.345343</td>\n",
       "      <td>-2.907990</td>\n",
       "      <td>-3.572891</td>\n",
       "      <td>2.308436</td>\n",
       "      <td>2.667734</td>\n",
       "      <td>2.268576</td>\n",
       "      <td>...</td>\n",
       "      <td>2.168417</td>\n",
       "      <td>0.489095</td>\n",
       "      <td>0.430775</td>\n",
       "      <td>-0.01356</td>\n",
       "      <td>-0.065566</td>\n",
       "      <td>-1.048705e-16</td>\n",
       "      <td>-3.581207e-17</td>\n",
       "      <td>0.000000</td>\n",
       "      <td>0.000000</td>\n",
       "      <td>0.000000</td>\n",
       "    </tr>\n",
       "    <tr>\n",
       "      <th>1479776</th>\n",
       "      <td>0.699054</td>\n",
       "      <td>0.945216</td>\n",
       "      <td>-0.519649</td>\n",
       "      <td>-1.043365</td>\n",
       "      <td>-1.191008</td>\n",
       "      <td>-0.791635</td>\n",
       "      <td>-1.212197</td>\n",
       "      <td>-0.837813</td>\n",
       "      <td>-0.923340</td>\n",
       "      <td>-0.942567</td>\n",
       "      <td>...</td>\n",
       "      <td>-0.881680</td>\n",
       "      <td>-0.284297</td>\n",
       "      <td>0.492267</td>\n",
       "      <td>-0.01356</td>\n",
       "      <td>-0.065566</td>\n",
       "      <td>6.632222e-01</td>\n",
       "      <td>-1.865298e-01</td>\n",
       "      <td>-0.342267</td>\n",
       "      <td>-0.021751</td>\n",
       "      <td>-0.710433</td>\n",
       "    </tr>\n",
       "    <tr>\n",
       "      <th>1843691</th>\n",
       "      <td>1.567355</td>\n",
       "      <td>1.634731</td>\n",
       "      <td>-1.017683</td>\n",
       "      <td>0.642347</td>\n",
       "      <td>0.764238</td>\n",
       "      <td>0.870433</td>\n",
       "      <td>0.964718</td>\n",
       "      <td>-0.511535</td>\n",
       "      <td>-0.491944</td>\n",
       "      <td>-0.495904</td>\n",
       "      <td>...</td>\n",
       "      <td>-0.398041</td>\n",
       "      <td>1.262486</td>\n",
       "      <td>-0.676087</td>\n",
       "      <td>-0.01356</td>\n",
       "      <td>-0.065566</td>\n",
       "      <td>-1.048705e-16</td>\n",
       "      <td>-3.581207e-17</td>\n",
       "      <td>0.000000</td>\n",
       "      <td>0.000000</td>\n",
       "      <td>0.000000</td>\n",
       "    </tr>\n",
       "  </tbody>\n",
       "</table>\n",
       "<p>3 rows × 24 columns</p>\n",
       "</div>"
      ],
      "text/plain": [
       "            Month  DayofMonth  DayOfWeek   DepTime  CRSDepTime   ArrTime  \\\n",
       "569947  -1.037549   -0.893490   0.974453  1.346342    1.345343 -2.907990   \n",
       "1479776  0.699054    0.945216  -0.519649 -1.043365   -1.191008 -0.791635   \n",
       "1843691  1.567355    1.634731  -1.017683  0.642347    0.764238  0.870433   \n",
       "\n",
       "         CRSArrTime  ActualElapsedTime  CRSElapsedTime   AirTime  ...  \\\n",
       "569947    -3.572891           2.308436        2.667734  2.268576  ...   \n",
       "1479776   -1.212197          -0.837813       -0.923340 -0.942567  ...   \n",
       "1843691    0.964718          -0.511535       -0.491944 -0.495904  ...   \n",
       "\n",
       "         Distance    TaxiIn   TaxiOut  Cancelled  Diverted  CarrierDelay  \\\n",
       "569947   2.168417  0.489095  0.430775   -0.01356 -0.065566 -1.048705e-16   \n",
       "1479776 -0.881680 -0.284297  0.492267   -0.01356 -0.065566  6.632222e-01   \n",
       "1843691 -0.398041  1.262486 -0.676087   -0.01356 -0.065566 -1.048705e-16   \n",
       "\n",
       "         WeatherDelay  NASDelay  SecurityDelay  LateAircraftDelay  \n",
       "569947  -3.581207e-17  0.000000       0.000000           0.000000  \n",
       "1479776 -1.865298e-01 -0.342267      -0.021751          -0.710433  \n",
       "1843691 -3.581207e-17  0.000000       0.000000           0.000000  \n",
       "\n",
       "[3 rows x 24 columns]"
      ]
     },
     "execution_count": 31,
     "metadata": {},
     "output_type": "execute_result"
    }
   ],
   "source": [
    "df_sample.head(3)"
   ]
  },
  {
   "cell_type": "code",
   "execution_count": 32,
   "id": "bc2d676c-b02a-472d-a1fc-ac3cf92c8345",
   "metadata": {},
   "outputs": [
    {
     "data": {
      "text/plain": [
       "KMeans(init='random', n_clusters=4, random_state=42)"
      ]
     },
     "execution_count": 32,
     "metadata": {},
     "output_type": "execute_result"
    }
   ],
   "source": [
    "#KMeans\n",
    "model1 = KMeans(init=\"random\",n_clusters=4,n_init=10,max_iter=300,random_state=42)\n",
    "model1.fit(df_sample)"
   ]
  },
  {
   "cell_type": "code",
   "execution_count": 33,
   "id": "6c85e15d-b00d-413e-8fee-c177de08b4a6",
   "metadata": {},
   "outputs": [
    {
     "data": {
      "text/plain": [
       "1172.694744125836"
      ]
     },
     "execution_count": 33,
     "metadata": {},
     "output_type": "execute_result"
    }
   ],
   "source": [
    "#the lowest SSE value\n",
    "model1.inertia_"
   ]
  },
  {
   "cell_type": "code",
   "execution_count": 34,
   "id": "5d6095ff-b841-41f9-af02-96a045fca7b9",
   "metadata": {},
   "outputs": [
    {
     "data": {
      "text/plain": [
       "array([[ 1.57938780e-01, -3.53869401e-01, -2.16497844e-01,\n",
       "        -3.41616776e-01, -3.53483972e-01, -1.01043610e-01,\n",
       "        -2.90349375e-01,  1.05145658e+00,  1.02224775e+00,\n",
       "         1.07870027e+00, -2.18571423e-01, -2.85353262e-01,\n",
       "         4.80089627e-02, -1.54586895e-01,  1.08560964e+00,\n",
       "        -8.25424085e-02,  8.58829745e-02, -1.35595187e-02,\n",
       "        -6.55662939e-02, -1.78366601e-01,  7.46949562e-02,\n",
       "         7.83575573e-02, -1.41856826e-02, -3.09908547e-01],\n",
       "       [ 1.92544994e-01,  2.14658955e-01, -2.70631972e-01,\n",
       "         8.50254949e-01,  8.95271746e-01,  8.49907994e-01,\n",
       "         8.35009330e-01, -6.02676359e-01, -5.87717429e-01,\n",
       "        -6.15330610e-01, -2.13439488e-01, -2.02486478e-01,\n",
       "         3.33420294e-02,  1.24723030e-01, -5.97809320e-01,\n",
       "        -1.18569952e-01,  3.28401373e-04, -1.35595187e-02,\n",
       "        -6.55662939e-02, -1.34425435e-01, -5.78642438e-03,\n",
       "        -3.50459391e-02, -1.24293600e-02, -1.14966596e-01],\n",
       "       [-9.86536362e-02,  1.60402724e-01, -1.30939515e-01,\n",
       "        -6.81994772e-01, -6.99000358e-01, -5.49696172e-01,\n",
       "        -8.01734141e-01, -6.91442479e-01, -6.50340625e-01,\n",
       "        -6.71389551e-01, -3.78340405e-01, -3.36095258e-01,\n",
       "        -2.51271241e-01, -2.52603709e-01, -6.23991932e-01,\n",
       "         4.39230581e-02, -2.47140810e-01, -1.35595187e-02,\n",
       "        -6.55662939e-02, -9.06998161e-02, -6.82426072e-02,\n",
       "        -8.64697779e-02, -7.95782192e-03, -2.75431034e-02],\n",
       "       [-6.75756376e-01, -6.34921554e-01,  9.12198723e-01,\n",
       "         7.76095594e-01,  1.22228553e+00, -2.80924185e+00,\n",
       "         8.11021074e-01,  1.01497833e+00,  1.06749102e+00,\n",
       "         8.54647150e-01,  1.00614054e+00,  1.18056635e+00,\n",
       "        -6.60013136e-01,  8.10495871e-01,  8.82849223e-01,\n",
       "        -5.22792716e-02,  1.02263871e+00, -1.35595187e-02,\n",
       "        -6.55662939e-02,  1.43266357e+00, -1.63213569e-01,\n",
       "        -2.26827662e-01, -1.90324574e-02, -2.01624420e-02]])"
      ]
     },
     "execution_count": 34,
     "metadata": {},
     "output_type": "execute_result"
    }
   ],
   "source": [
    "#final locations of centroids\n",
    "centers1 = model1.cluster_centers_\n",
    "centers1"
   ]
  },
  {
   "cell_type": "code",
   "execution_count": 35,
   "id": "1d28b19e-3b04-410a-a710-1dc4c4613c63",
   "metadata": {},
   "outputs": [
    {
     "data": {
      "text/plain": [
       "8"
      ]
     },
     "execution_count": 35,
     "metadata": {},
     "output_type": "execute_result"
    }
   ],
   "source": [
    "#number of iterations required to converge\n",
    "model1.n_iter_"
   ]
  },
  {
   "cell_type": "code",
   "execution_count": 36,
   "id": "ab9e720a-327a-417f-8dd6-1e931505fc3f",
   "metadata": {},
   "outputs": [
    {
     "data": {
      "text/plain": [
       "array([3, 2, 1, 2, 2, 0, 2, 0, 0, 1, 2, 2, 0, 0, 1, 2, 2, 0, 1, 1, 3, 2,\n",
       "       1, 1, 2, 1, 1, 2, 0, 0, 0, 2, 0, 1, 2, 2, 1, 1, 1, 0, 1, 2, 3, 2,\n",
       "       2, 0, 1, 2, 2, 0, 3, 2, 2, 2, 3, 2, 1, 1, 0, 1, 2, 2, 1, 1, 0, 2,\n",
       "       0, 2, 2, 2, 2, 3, 1, 0, 0, 3, 1, 2, 1, 2, 2, 0, 1, 1, 1, 2, 0, 3,\n",
       "       2, 1, 2, 2, 0, 2, 2, 2, 2, 0, 0, 1], dtype=int32)"
      ]
     },
     "execution_count": 36,
     "metadata": {},
     "output_type": "execute_result"
    }
   ],
   "source": [
    "a = model1.labels_\n",
    "a"
   ]
  },
  {
   "cell_type": "code",
   "execution_count": 89,
   "id": "f53a33f5-5795-4502-8f49-067ae8b5bd19",
   "metadata": {},
   "outputs": [
    {
     "data": {
      "image/png": "[encoded data removed]",
      "text/plain": [
       "<Figure size 1080x432 with 2 Axes>"
      ]
     },
     "metadata": {},
     "output_type": "display_data"
    }
   ],
   "source": [
    "#visualisation of clusters, comparing values raw and clusters output\n",
    "fig,axes = plt.subplots(nrows=1,ncols=2,figsize=(15,6))\n",
    "sns.set_style('whitegrid', {\"grid.color\": \".6\", \"grid.linestyle\": \":\"})\n",
    "\n",
    "fte_colors1 = {0: \"#008fd5\",1: \"#fc4f30\",2: \"#ffb3b3\", 3:'#669900'}\n",
    "km_colors = [fte_colors1[label] for label in model1.labels_]\n",
    "\n",
    "axes[0].scatter(df_sample['ArrDelay'], df_sample['Distance'])\n",
    "axes[0].set_xlabel(\"ArrDelay\",fontsize = 12)\n",
    "axes[0].set_ylabel(\"Distance\",fontsize = 12)\n",
    "axes[0].set_title(\"Distance by ArrDelay\", fontsize = 15)\n",
    "\n",
    "axes[1].scatter(df_sample['ArrDelay'], df_sample['Distance'], c=km_colors)\n",
    "axes[1].scatter(centers1[:, 0], centers1[:, 1], c='black', s=200, alpha=0.5)\n",
    "axes[1].set_xlabel(\"ArrDelay\",fontsize = 12)\n",
    "axes[1].set_ylabel(\"Distance\",fontsize = 12)\n",
    "axes[1].set_title(\"K-means clustering\", fontsize = 15)\n",
    "\n",
    "plt.tight_layout();"
   ]
  },
  {
   "cell_type": "markdown",
   "id": "2241c639-7910-4d03-9574-3116dfda6e76",
   "metadata": {},
   "source": [
    "Conclusion:\n",
    "- Cluster1 (blue) selects flights high Distance and low ArrDelay.\n",
    "- Cluster2 (red) selects flights with low Distance and low ArrDelay.\n",
    "- Cluster3 (pink) selects flights with medium Distance and low ArrDelay.\n",
    "- Cluster4 (green) selects flights with low Distance and high ArrDelay."
   ]
  },
  {
   "cell_type": "markdown",
   "id": "c93c05e5-a994-43e5-8f92-e4b028434c52",
   "metadata": {},
   "source": [
    "#### Characteristics of each cluster"
   ]
  },
  {
   "cell_type": "code",
   "execution_count": 38,
   "id": "8e8ca989-e1bc-41d6-89f6-039bf2ff9199",
   "metadata": {},
   "outputs": [
    {
     "data": {
      "text/html": [
       "<div>\n",
       "<style scoped>\n",
       "    .dataframe tbody tr th:only-of-type {\n",
       "        vertical-align: middle;\n",
       "    }\n",
       "\n",
       "    .dataframe tbody tr th {\n",
       "        vertical-align: top;\n",
       "    }\n",
       "\n",
       "    .dataframe thead th {\n",
       "        text-align: right;\n",
       "    }\n",
       "</style>\n",
       "<table border=\"1\" class=\"dataframe\">\n",
       "  <thead>\n",
       "    <tr style=\"text-align: right;\">\n",
       "      <th></th>\n",
       "      <th>DataIndex</th>\n",
       "      <th>ArrDelay</th>\n",
       "      <th>Distance</th>\n",
       "      <th>Cluster</th>\n",
       "    </tr>\n",
       "  </thead>\n",
       "  <tbody>\n",
       "    <tr>\n",
       "      <th>0</th>\n",
       "      <td>569947</td>\n",
       "      <td>-0.570181</td>\n",
       "      <td>-2.907990</td>\n",
       "      <td>3</td>\n",
       "    </tr>\n",
       "    <tr>\n",
       "      <th>1</th>\n",
       "      <td>1479776</td>\n",
       "      <td>0.186823</td>\n",
       "      <td>-0.791635</td>\n",
       "      <td>2</td>\n",
       "    </tr>\n",
       "    <tr>\n",
       "      <th>2</th>\n",
       "      <td>1843691</td>\n",
       "      <td>-0.625571</td>\n",
       "      <td>0.870433</td>\n",
       "      <td>1</td>\n",
       "    </tr>\n",
       "  </tbody>\n",
       "</table>\n",
       "</div>"
      ],
      "text/plain": [
       "   DataIndex  ArrDelay  Distance  Cluster\n",
       "0     569947 -0.570181 -2.907990        3\n",
       "1    1479776  0.186823 -0.791635        2\n",
       "2    1843691 -0.625571  0.870433        1"
      ]
     },
     "execution_count": 38,
     "metadata": {},
     "output_type": "execute_result"
    }
   ],
   "source": [
    "#new dataset with the clusters\n",
    "cluster_map1 = pd.DataFrame()\n",
    "cluster_map1['DataIndex'] = df_sample.index.values\n",
    "cluster_map1['ArrDelay'] = df_sample.ArrDelay.values\n",
    "cluster_map1['Distance'] = df_sample.ArrTime.values\n",
    "cluster_map1['Cluster'] = model1.labels_\n",
    "cluster_map1.head(3)"
   ]
  },
  {
   "cell_type": "code",
   "execution_count": 39,
   "id": "b19bc265-7058-4958-b2f9-b489bbd2b288",
   "metadata": {},
   "outputs": [],
   "source": [
    "#select each group\n",
    "cluster1 = cluster_map1[cluster_map1.Cluster == 0]\n",
    "cluster2 = cluster_map1[cluster_map1.Cluster == 1]\n",
    "cluster3 = cluster_map1[cluster_map1.Cluster == 2]\n",
    "cluster4 = cluster_map1[cluster_map1.Cluster == 3]"
   ]
  },
  {
   "cell_type": "code",
   "execution_count": 40,
   "id": "cc2a0414-2cbb-4a9f-93d8-ea594c238f35",
   "metadata": {},
   "outputs": [
    {
     "name": "stdout",
     "output_type": "stream",
     "text": [
      "Cluster 1 has: 23 instances. Cluster 2 has: 28 instances. Cluster 3 has: 41 instances. Cluster 4 has: 8 instances.\n"
     ]
    }
   ],
   "source": [
    "#number of elements\n",
    "elements1 = cluster1['DataIndex'].count()\n",
    "elements2 = cluster2['DataIndex'].count()\n",
    "elements3 = cluster3['DataIndex'].count()\n",
    "elements4 = cluster4['DataIndex'].count()\n",
    "print('Cluster 1 has:',elements1,'instances.', 'Cluster 2 has:',elements2,\n",
    "      'instances.','Cluster 3 has:', elements3,'instances.', 'Cluster 4 has:', elements4,'instances.')"
   ]
  },
  {
   "cell_type": "code",
   "execution_count": 41,
   "id": "7d5ec015-d673-4a1f-8308-69eb03f69abf",
   "metadata": {},
   "outputs": [
    {
     "data": {
      "text/html": [
       "<div>\n",
       "<style scoped>\n",
       "    .dataframe tbody tr th:only-of-type {\n",
       "        vertical-align: middle;\n",
       "    }\n",
       "\n",
       "    .dataframe tbody tr th {\n",
       "        vertical-align: top;\n",
       "    }\n",
       "\n",
       "    .dataframe thead th {\n",
       "        text-align: right;\n",
       "    }\n",
       "</style>\n",
       "<table border=\"1\" class=\"dataframe\">\n",
       "  <thead>\n",
       "    <tr style=\"text-align: right;\">\n",
       "      <th></th>\n",
       "      <th>DataIndex</th>\n",
       "      <th>ArrDelay</th>\n",
       "      <th>Distance</th>\n",
       "      <th>Cluster</th>\n",
       "    </tr>\n",
       "  </thead>\n",
       "  <tbody>\n",
       "    <tr>\n",
       "      <th>5</th>\n",
       "      <td>1936603</td>\n",
       "      <td>0.445312</td>\n",
       "      <td>-0.516144</td>\n",
       "      <td>0</td>\n",
       "    </tr>\n",
       "    <tr>\n",
       "      <th>7</th>\n",
       "      <td>369559</td>\n",
       "      <td>-0.533254</td>\n",
       "      <td>0.403375</td>\n",
       "      <td>0</td>\n",
       "    </tr>\n",
       "  </tbody>\n",
       "</table>\n",
       "</div>"
      ],
      "text/plain": [
       "   DataIndex  ArrDelay  Distance  Cluster\n",
       "5    1936603  0.445312 -0.516144        0\n",
       "7     369559 -0.533254  0.403375        0"
      ]
     },
     "execution_count": 41,
     "metadata": {},
     "output_type": "execute_result"
    }
   ],
   "source": [
    "cluster1.head(2)"
   ]
  },
  {
   "cell_type": "code",
   "execution_count": 42,
   "id": "de102fa8-3187-4578-acbc-22f2650c1370",
   "metadata": {},
   "outputs": [
    {
     "data": {
      "text/html": [
       "<div>\n",
       "<style scoped>\n",
       "    .dataframe tbody tr th:only-of-type {\n",
       "        vertical-align: middle;\n",
       "    }\n",
       "\n",
       "    .dataframe tbody tr th {\n",
       "        vertical-align: top;\n",
       "    }\n",
       "\n",
       "    .dataframe thead th {\n",
       "        text-align: right;\n",
       "    }\n",
       "</style>\n",
       "<table border=\"1\" class=\"dataframe\">\n",
       "  <thead>\n",
       "    <tr style=\"text-align: right;\">\n",
       "      <th></th>\n",
       "      <th>DataIndex</th>\n",
       "      <th>ArrDelay</th>\n",
       "      <th>Distance</th>\n",
       "      <th>Cluster</th>\n",
       "    </tr>\n",
       "  </thead>\n",
       "  <tbody>\n",
       "    <tr>\n",
       "      <th>2</th>\n",
       "      <td>1843691</td>\n",
       "      <td>-0.625571</td>\n",
       "      <td>0.870433</td>\n",
       "      <td>1</td>\n",
       "    </tr>\n",
       "    <tr>\n",
       "      <th>9</th>\n",
       "      <td>728714</td>\n",
       "      <td>-0.496327</td>\n",
       "      <td>1.036457</td>\n",
       "      <td>1</td>\n",
       "    </tr>\n",
       "  </tbody>\n",
       "</table>\n",
       "</div>"
      ],
      "text/plain": [
       "   DataIndex  ArrDelay  Distance  Cluster\n",
       "2    1843691 -0.625571  0.870433        1\n",
       "9     728714 -0.496327  1.036457        1"
      ]
     },
     "execution_count": 42,
     "metadata": {},
     "output_type": "execute_result"
    }
   ],
   "source": [
    "cluster2.head(2)"
   ]
  },
  {
   "cell_type": "code",
   "execution_count": 43,
   "id": "a67058a6-6e37-44bb-a0c0-3c23c26381cb",
   "metadata": {},
   "outputs": [
    {
     "data": {
      "text/html": [
       "<div>\n",
       "<style scoped>\n",
       "    .dataframe tbody tr th:only-of-type {\n",
       "        vertical-align: middle;\n",
       "    }\n",
       "\n",
       "    .dataframe tbody tr th {\n",
       "        vertical-align: top;\n",
       "    }\n",
       "\n",
       "    .dataframe thead th {\n",
       "        text-align: right;\n",
       "    }\n",
       "</style>\n",
       "<table border=\"1\" class=\"dataframe\">\n",
       "  <thead>\n",
       "    <tr style=\"text-align: right;\">\n",
       "      <th></th>\n",
       "      <th>DataIndex</th>\n",
       "      <th>ArrDelay</th>\n",
       "      <th>Distance</th>\n",
       "      <th>Cluster</th>\n",
       "    </tr>\n",
       "  </thead>\n",
       "  <tbody>\n",
       "    <tr>\n",
       "      <th>1</th>\n",
       "      <td>1479776</td>\n",
       "      <td>0.186823</td>\n",
       "      <td>-0.791635</td>\n",
       "      <td>2</td>\n",
       "    </tr>\n",
       "    <tr>\n",
       "      <th>3</th>\n",
       "      <td>1350452</td>\n",
       "      <td>-0.514790</td>\n",
       "      <td>-0.056384</td>\n",
       "      <td>2</td>\n",
       "    </tr>\n",
       "  </tbody>\n",
       "</table>\n",
       "</div>"
      ],
      "text/plain": [
       "   DataIndex  ArrDelay  Distance  Cluster\n",
       "1    1479776  0.186823 -0.791635        2\n",
       "3    1350452 -0.514790 -0.056384        2"
      ]
     },
     "execution_count": 43,
     "metadata": {},
     "output_type": "execute_result"
    }
   ],
   "source": [
    "cluster3.head(2)"
   ]
  },
  {
   "cell_type": "code",
   "execution_count": 44,
   "id": "620088b7-0008-4956-a798-994f13734c65",
   "metadata": {},
   "outputs": [
    {
     "data": {
      "text/html": [
       "<div>\n",
       "<style scoped>\n",
       "    .dataframe tbody tr th:only-of-type {\n",
       "        vertical-align: middle;\n",
       "    }\n",
       "\n",
       "    .dataframe tbody tr th {\n",
       "        vertical-align: top;\n",
       "    }\n",
       "\n",
       "    .dataframe thead th {\n",
       "        text-align: right;\n",
       "    }\n",
       "</style>\n",
       "<table border=\"1\" class=\"dataframe\">\n",
       "  <thead>\n",
       "    <tr style=\"text-align: right;\">\n",
       "      <th></th>\n",
       "      <th>DataIndex</th>\n",
       "      <th>ArrDelay</th>\n",
       "      <th>Distance</th>\n",
       "      <th>Cluster</th>\n",
       "    </tr>\n",
       "  </thead>\n",
       "  <tbody>\n",
       "    <tr>\n",
       "      <th>0</th>\n",
       "      <td>569947</td>\n",
       "      <td>-0.570181</td>\n",
       "      <td>-2.907990</td>\n",
       "      <td>3</td>\n",
       "    </tr>\n",
       "    <tr>\n",
       "      <th>20</th>\n",
       "      <td>369593</td>\n",
       "      <td>3.067129</td>\n",
       "      <td>-2.537628</td>\n",
       "      <td>3</td>\n",
       "    </tr>\n",
       "  </tbody>\n",
       "</table>\n",
       "</div>"
      ],
      "text/plain": [
       "    DataIndex  ArrDelay  Distance  Cluster\n",
       "0      569947 -0.570181 -2.907990        3\n",
       "20     369593  3.067129 -2.537628        3"
      ]
     },
     "execution_count": 44,
     "metadata": {},
     "output_type": "execute_result"
    }
   ],
   "source": [
    "cluster4.head(2)"
   ]
  },
  {
   "cell_type": "code",
   "execution_count": 45,
   "id": "acb75675-4da5-45b2-8bc6-f1549d2157fd",
   "metadata": {},
   "outputs": [],
   "source": [
    "#arithmetic mean of ArrDelay in cluster1\n",
    "cluster1_indexes = list(cluster1['DataIndex'])\n",
    "group1 = pd.DataFrame()\n",
    "\n",
    "def myfunc1(x):\n",
    "    global group1\n",
    "    group1 = group1.append(df_flights.loc[[x]])\n",
    "    return group1\n",
    "    \n",
    "for x in cluster1_indexes:\n",
    "    myfunc1(x)\n",
    "    \n",
    "#arithmetic mean of ArrDelay in cluster2\n",
    "cluster2_indexes = list(cluster2['DataIndex'])\n",
    "group2 = pd.DataFrame()\n",
    "\n",
    "def myfunc2(x):\n",
    "    global group2\n",
    "    group2 = group2.append(df_flights.loc[[x]])\n",
    "    return group2\n",
    "    \n",
    "for x in cluster2_indexes:\n",
    "    myfunc2(x)   \n",
    "\n",
    "#arithmetic mean of ArrDelay in cluster3\n",
    "cluster3_indexes = list(cluster3['DataIndex'])\n",
    "group3 = pd.DataFrame()\n",
    "\n",
    "def myfunc3(x):\n",
    "    global group3\n",
    "    group3 = group3.append(df_flights.loc[[x]])\n",
    "    return group3\n",
    "    \n",
    "for x in cluster3_indexes:\n",
    "    myfunc3(x) \n",
    "\n",
    "#arithmetic mean of ArrDelay in cluster4\n",
    "cluster4_indexes = list(cluster4['DataIndex'])\n",
    "group4 = pd.DataFrame()\n",
    "\n",
    "def myfunc4(x):\n",
    "    global group4\n",
    "    group4 = group4.append(df_flights.loc[[x]])\n",
    "    return group4\n",
    "    \n",
    "for x in cluster4_indexes:\n",
    "    myfunc4(x) "
   ]
  },
  {
   "cell_type": "code",
   "execution_count": 46,
   "id": "892959c9-4b59-4904-a1d8-28ee50e87ad1",
   "metadata": {},
   "outputs": [
    {
     "name": "stdout",
     "output_type": "stream",
     "text": [
      "Arithmetic mean of ArrDelay in cluster 1: 28.043478260869566 minits.\n",
      "Arithmetic mean of ArrDelay in cluster 2: 28.321428571428573 minits.\n",
      "Arithmetic mean of ArrDelay in cluster 3: 19.390243902439025 minits.\n",
      "Arithmetic mean of ArrDelay in cluster 4: 94.375 minits.\n"
     ]
    }
   ],
   "source": [
    "mean1 = group1['ArrDelay'].mean()\n",
    "mean2 = group2['ArrDelay'].mean()\n",
    "mean3 = group3['ArrDelay'].mean()\n",
    "mean4 = group4['ArrDelay'].mean()\n",
    "print('Arithmetic mean of ArrDelay in cluster 1:',mean1,'minits.')\n",
    "print('Arithmetic mean of ArrDelay in cluster 2:',mean2,'minits.')\n",
    "print('Arithmetic mean of ArrDelay in cluster 3:',mean3,'minits.')\n",
    "print('Arithmetic mean of ArrDelay in cluster 4:',mean4,'minits.')"
   ]
  },
  {
   "cell_type": "code",
   "execution_count": 47,
   "id": "3de1e972-4985-4bf8-99c0-db3e72918902",
   "metadata": {},
   "outputs": [
    {
     "name": "stdout",
     "output_type": "stream",
     "text": [
      "Standard deviation of cluster 1: 0.5605919749182452\n",
      "Standard deviation of cluster 2: 0.49287394536805773\n",
      "Standard deviation of cluster 3: 0.5509873993304439\n",
      "Standard deviation of cluster 4: 1.2445289361714158\n"
     ]
    }
   ],
   "source": [
    "#standard deviation\n",
    "std1 = statistics.stdev(cluster1['ArrDelay'])\n",
    "std2 = statistics.stdev(cluster2['ArrDelay'])\n",
    "std3 = statistics.stdev(cluster3['ArrDelay'])\n",
    "std4 = statistics.stdev(cluster4['ArrDelay'])\n",
    "\n",
    "print('Standard deviation of cluster 1:',std1)\n",
    "print('Standard deviation of cluster 2:',std2)\n",
    "print('Standard deviation of cluster 3:',std3)\n",
    "print('Standard deviation of cluster 4:',std4)"
   ]
  },
  {
   "cell_type": "markdown",
   "id": "362dd74d-d410-4681-85a7-d978dccbd4a9",
   "metadata": {},
   "source": [
    "Conclusion:\n",
    "- Standard deviation measures how dispersed the data is in relation to the mean. \n",
    "- The cluste 4 has high standard deviation, it means that the flights in this group have more differences between the values of instances. "
   ]
  },
  {
   "cell_type": "markdown",
   "id": "1b1bdef3-258e-471c-8c08-426ea4ad1937",
   "metadata": {},
   "source": [
    "## Level 2"
   ]
  },
  {
   "cell_type": "markdown",
   "id": "078a2596-c5e3-4a36-9334-a658be674a3b",
   "metadata": {},
   "source": [
    "### Exercise 2"
   ]
  },
  {
   "cell_type": "markdown",
   "id": "886bbf4d-0fb0-4dc3-a6e7-85864a593954",
   "metadata": {},
   "source": [
    "#### Classification of flights with hierarchical clustering"
   ]
  },
  {
   "cell_type": "code",
   "execution_count": 48,
   "id": "6acc714d-2b42-451d-a707-272706101336",
   "metadata": {},
   "outputs": [
    {
     "data": {
      "text/plain": [
       "array([0, 3, 1, 1, 3, 2, 3, 2, 2, 1, 3, 3, 0, 1, 1, 1, 3, 2, 1, 3, 0, 1,\n",
       "       1, 1, 2, 3, 1, 3, 2, 3, 2, 3, 2, 1, 3, 3, 3, 1, 1, 0, 1, 3, 0, 3,\n",
       "       3, 2, 1, 1, 3, 2, 0, 3, 3, 2, 0, 3, 1, 1, 3, 1, 3, 3, 1, 1, 2, 1,\n",
       "       0, 3, 3, 3, 3, 0, 1, 2, 2, 0, 1, 3, 1, 3, 3, 2, 1, 1, 1, 0, 2, 0,\n",
       "       3, 1, 1, 3, 2, 3, 1, 3, 3, 2, 2, 1])"
      ]
     },
     "execution_count": 48,
     "metadata": {},
     "output_type": "execute_result"
    }
   ],
   "source": [
    "model2 = AgglomerativeClustering(n_clusters=4, affinity='euclidean', linkage='ward')  \n",
    "model2.fit_predict(df_sample)"
   ]
  },
  {
   "cell_type": "code",
   "execution_count": 91,
   "id": "53ef1bd3-45d8-42b0-a2a8-2a62a5ffa5dd",
   "metadata": {},
   "outputs": [
    {
     "data": {
      "image/png": "[encoded data removed]",
      "text/plain": [
       "<Figure size 1080x432 with 2 Axes>"
      ]
     },
     "metadata": {},
     "output_type": "display_data"
    }
   ],
   "source": [
    "#visualisation of clusters, comparing values raw and clusters output\n",
    "fig,axes = plt.subplots(nrows=1,ncols=2,figsize=(15,6))\n",
    "sns.set_style('whitegrid', {\"grid.color\": \".6\", \"grid.linestyle\": \":\"})\n",
    "centers2 = model1.cluster_centers_\n",
    "\n",
    "fte_colors2 = {0: \"#ffb3b3\",1: \"#669900\",2: \"#fc4f30\", 3:'#008fd5'}\n",
    "hie_colors = [fte_colors2[label] for label in model2.labels_]\n",
    "\n",
    "axes[0].scatter(df_sample['ArrDelay'], df_sample['Distance'])\n",
    "axes[0].set_xlabel(\"ArrDelay\",fontsize = 12)\n",
    "axes[0].set_ylabel(\"Distance\",fontsize = 12)\n",
    "axes[0].set_title(\"Distance by Arrival Delay\", fontsize = 15)\n",
    "\n",
    "axes[1].scatter(df_sample['ArrDelay'], df_sample['Distance'], c=hie_colors)\n",
    "axes[1].scatter(centers2[:, 0], centers2[:, 1], c='black', s=200, alpha=0.5)\n",
    "axes[1].set_xlabel(\"ArrDelay\",fontsize = 12)\n",
    "axes[1].set_ylabel(\"Distance\",fontsize = 12)\n",
    "axes[1].set_title(\"Hierarchical clustering\", fontsize = 15)\n",
    "\n",
    "plt.tight_layout();"
   ]
  },
  {
   "cell_type": "markdown",
   "id": "339bf6c9-9f35-4c93-ab9a-2f9dfef228f7",
   "metadata": {},
   "source": [
    "Conclusion:\n",
    "- Cluster1 (blue) selects flights with low Distance and low ArrDelay.\n",
    "- Cluster2 (red) selects flights with high Distance and low ArrDelay.\n",
    "- Cluster3 (pink) selects flights outliers.\n",
    "- Cluster4 (green) selects flights with low Distance and medium ArrDelay."
   ]
  },
  {
   "cell_type": "markdown",
   "id": "0ecb8834-0c5a-46a9-a271-4140a2b4fb58",
   "metadata": {},
   "source": [
    "#### Characteristics of each cluster"
   ]
  },
  {
   "cell_type": "code",
   "execution_count": 50,
   "id": "6cfb8ec0-4a11-4e8a-b681-8f15f7108345",
   "metadata": {},
   "outputs": [
    {
     "data": {
      "text/html": [
       "<div>\n",
       "<style scoped>\n",
       "    .dataframe tbody tr th:only-of-type {\n",
       "        vertical-align: middle;\n",
       "    }\n",
       "\n",
       "    .dataframe tbody tr th {\n",
       "        vertical-align: top;\n",
       "    }\n",
       "\n",
       "    .dataframe thead th {\n",
       "        text-align: right;\n",
       "    }\n",
       "</style>\n",
       "<table border=\"1\" class=\"dataframe\">\n",
       "  <thead>\n",
       "    <tr style=\"text-align: right;\">\n",
       "      <th></th>\n",
       "      <th>DataIndex</th>\n",
       "      <th>ArrDelay</th>\n",
       "      <th>Distance</th>\n",
       "      <th>Cluster</th>\n",
       "    </tr>\n",
       "  </thead>\n",
       "  <tbody>\n",
       "    <tr>\n",
       "      <th>0</th>\n",
       "      <td>569947</td>\n",
       "      <td>-0.570181</td>\n",
       "      <td>-2.907990</td>\n",
       "      <td>0</td>\n",
       "    </tr>\n",
       "    <tr>\n",
       "      <th>1</th>\n",
       "      <td>1479776</td>\n",
       "      <td>0.186823</td>\n",
       "      <td>-0.791635</td>\n",
       "      <td>3</td>\n",
       "    </tr>\n",
       "    <tr>\n",
       "      <th>2</th>\n",
       "      <td>1843691</td>\n",
       "      <td>-0.625571</td>\n",
       "      <td>0.870433</td>\n",
       "      <td>1</td>\n",
       "    </tr>\n",
       "  </tbody>\n",
       "</table>\n",
       "</div>"
      ],
      "text/plain": [
       "   DataIndex  ArrDelay  Distance  Cluster\n",
       "0     569947 -0.570181 -2.907990        0\n",
       "1    1479776  0.186823 -0.791635        3\n",
       "2    1843691 -0.625571  0.870433        1"
      ]
     },
     "execution_count": 50,
     "metadata": {},
     "output_type": "execute_result"
    }
   ],
   "source": [
    "#new dataset with the clusters\n",
    "cluster_map2 = pd.DataFrame()\n",
    "cluster_map2['DataIndex'] = df_sample.index.values\n",
    "cluster_map2['ArrDelay'] = df_sample.ArrDelay.values\n",
    "cluster_map2['Distance'] = df_sample.ArrTime.values\n",
    "cluster_map2['Cluster'] = model2.labels_\n",
    "cluster_map2.head(3)"
   ]
  },
  {
   "cell_type": "code",
   "execution_count": 51,
   "id": "5acadccd-31b8-43c9-99ba-3e6f5603d014",
   "metadata": {},
   "outputs": [],
   "source": [
    "#select each group\n",
    "cluster1_AC = cluster_map2[cluster_map2.Cluster == 0]\n",
    "cluster2_AC = cluster_map2[cluster_map2.Cluster == 1]\n",
    "cluster3_AC = cluster_map2[cluster_map2.Cluster == 2]\n",
    "cluster4_AC = cluster_map2[cluster_map2.Cluster == 3]"
   ]
  },
  {
   "cell_type": "code",
   "execution_count": 52,
   "id": "19a48814-a4b8-4bdd-9388-2a0874eb7b14",
   "metadata": {},
   "outputs": [
    {
     "name": "stdout",
     "output_type": "stream",
     "text": [
      "Cluster 1 has: 12 instances. Cluster 2 has: 33 instances. Cluster 3 has: 19 instances. Cluster 4 has: 36 instances.\n"
     ]
    }
   ],
   "source": [
    "#number of elements\n",
    "elements1_AC = cluster1_AC['DataIndex'].count()\n",
    "elements2_AC = cluster2_AC['DataIndex'].count()\n",
    "elements3_AC = cluster3_AC['DataIndex'].count()\n",
    "elements4_AC = cluster4_AC['DataIndex'].count()\n",
    "print('Cluster 1 has:',elements1_AC,'instances.', 'Cluster 2 has:',elements2_AC,\n",
    "      'instances.','Cluster 3 has:', elements3_AC,'instances.', 'Cluster 4 has:', elements4_AC,'instances.')"
   ]
  },
  {
   "cell_type": "code",
   "execution_count": 53,
   "id": "0dc2bdb1-2b71-4b10-a89f-2ccd32bdbb82",
   "metadata": {},
   "outputs": [
    {
     "name": "stdout",
     "output_type": "stream",
     "text": [
      "Standard deviation of cluster 1: 1.1296391486500643\n",
      "Standard deviation of cluster 2: 0.4774420672784552\n",
      "Standard deviation of cluster 3: 0.5409477314097181\n",
      "Standard deviation of cluster 4: 0.5480504477118833\n"
     ]
    }
   ],
   "source": [
    "#standard deviation\n",
    "std1_AC = statistics.stdev(cluster1_AC['ArrDelay'])\n",
    "std2_AC = statistics.stdev(cluster2_AC['ArrDelay'])\n",
    "std3_AC = statistics.stdev(cluster3_AC['ArrDelay'])\n",
    "std4_AC = statistics.stdev(cluster4_AC['ArrDelay'])\n",
    "\n",
    "print('Standard deviation of cluster 1:',std1_AC)\n",
    "print('Standard deviation of cluster 2:',std2_AC)\n",
    "print('Standard deviation of cluster 3:',std3_AC)\n",
    "print('Standard deviation of cluster 4:',std4_AC)"
   ]
  },
  {
   "cell_type": "markdown",
   "id": "8e4282a6-1964-42f3-a051-088706828afa",
   "metadata": {},
   "source": [
    "Conclusion:\n",
    "- Cluster 1 has the highest standart deviation.\n",
    "- This cluster contains instances with values which are very far from each other."
   ]
  },
  {
   "cell_type": "markdown",
   "id": "e3b59f7f-494b-4aa6-8406-4a89490f5003",
   "metadata": {},
   "source": [
    "## Level 3"
   ]
  },
  {
   "cell_type": "markdown",
   "id": "77a9b4d6-263b-4cde-9755-9290ce4044ae",
   "metadata": {},
   "source": [
    "### Exercise 3"
   ]
  },
  {
   "cell_type": "markdown",
   "id": "bbedde7a-0b3d-4292-8532-4df8809eaa34",
   "metadata": {},
   "source": [
    "##### Evaluate the clusters + appropriate number of clusters"
   ]
  },
  {
   "cell_type": "markdown",
   "id": "71b5071b-ff48-4a4e-861a-b146f14aef86",
   "metadata": {},
   "source": [
    "#### K-means: Choosing the appropriate number of clusters - Elbow method"
   ]
  },
  {
   "cell_type": "code",
   "execution_count": 99,
   "id": "c1c82675-ae2d-402f-8a2b-fcd27ecf1a61",
   "metadata": {},
   "outputs": [
    {
     "data": {
      "image/png": "[encoded data removed]",
      "text/plain": [
       "<Figure size 576x432 with 1 Axes>"
      ]
     },
     "metadata": {},
     "output_type": "display_data"
    }
   ],
   "source": [
    "kmeans_kwargs = {\"init\": \"random\",\"n_init\": 10,\"random_state\": 42}\n",
    "sse = []\n",
    "for k in range(1, 11):\n",
    "    model1elbow = KMeans(n_clusters=k, **kmeans_kwargs)\n",
    "    model1elbow.fit(df_sample)\n",
    "    sse.append(model1elbow.inertia_)\n",
    "\n",
    "plt.figure(figsize=(8, 6)) \n",
    "sns.set_style('whitegrid', {\"grid.color\": \".6\", \"grid.linestyle\": \":\"})\n",
    "plt.plot(range(1, 11), sse)\n",
    "plt.xticks(range(1, 11))\n",
    "plt.title(\"SSE curve\", fontsize = 15)\n",
    "plt.xlabel(\"Number of Clusters\",fontsize = 12)\n",
    "plt.ylabel(\"SSE\",fontsize = 12)\n",
    "plt.show()"
   ]
  },
  {
   "cell_type": "code",
   "execution_count": 93,
   "id": "dfd59e1e-2d07-4065-8260-6080c8b1b583",
   "metadata": {},
   "outputs": [
    {
     "data": {
      "text/plain": [
       "4"
      ]
     },
     "execution_count": 93,
     "metadata": {},
     "output_type": "execute_result"
    }
   ],
   "source": [
    "#when determining the elbow point in the SSE curve is not so straightforward, use of library kneed\n",
    "kl = KneeLocator(range(1, 11), sse, curve=\"convex\", direction=\"decreasing\")\n",
    "kl.elbow"
   ]
  },
  {
   "cell_type": "markdown",
   "id": "2a09c674-81be-469b-b729-42d40906485d",
   "metadata": {},
   "source": [
    "Interpretation:\n",
    "- The elbow is located at x=4, that means we can use 4 clusters for K-means clustering to get the optimum result. However the result is not so straightforward from the SSE curve."
   ]
  },
  {
   "cell_type": "markdown",
   "id": "5fe22cc2-994a-4a6b-84ab-ad52b8930ca5",
   "metadata": {},
   "source": [
    "#### K-means: Choosing the appropriate number of clusters - Silhouette coefficient"
   ]
  },
  {
   "cell_type": "code",
   "execution_count": 100,
   "id": "f6a33cf1-91f0-4b4d-af4e-e0083a8fa571",
   "metadata": {},
   "outputs": [
    {
     "data": {
      "image/png": "[encoded data removed]",
      "text/plain": [
       "<Figure size 576x432 with 1 Axes>"
      ]
     },
     "metadata": {},
     "output_type": "display_data"
    }
   ],
   "source": [
    "silhouette_coefficients = []\n",
    "for k in range(2, 11):\n",
    "    model1silhouette = KMeans(n_clusters=k, **kmeans_kwargs)\n",
    "    model1silhouette.fit(df_sample)\n",
    "    score1 = silhouette_score(df_sample, model1silhouette.labels_)\n",
    "    silhouette_coefficients.append(score1)\n",
    "\n",
    "plt.figure(figsize=(8, 6)) \n",
    "sns.set_style('whitegrid', {\"grid.color\": \".6\", \"grid.linestyle\": \":\"})\n",
    "plt.plot(range(2, 11), silhouette_coefficients)\n",
    "plt.xticks(range(2, 11))\n",
    "plt.title(\"Silhouette curve\", fontsize = 15)\n",
    "plt.xlabel(\"Number of Clusters\",fontsize = 12)\n",
    "plt.ylabel(\"Silhouette Coefficient\",fontsize = 14)\n",
    "plt.show()"
   ]
  },
  {
   "cell_type": "markdown",
   "id": "97d5e6c8-c6d8-468b-ab02-d0d7c88929c3",
   "metadata": {},
   "source": [
    "#### Hierarchical clustering evaluation"
   ]
  },
  {
   "cell_type": "code",
   "execution_count": 101,
   "id": "ca3aaaa2-38f2-4dc0-ab85-9617a4c5dd53",
   "metadata": {},
   "outputs": [
    {
     "data": {
      "image/png": "[encoded data removed]",
      "text/plain": [
       "<Figure size 576x432 with 1 Axes>"
      ]
     },
     "metadata": {},
     "output_type": "display_data"
    }
   ],
   "source": [
    "plt.figure(figsize=(8, 6))\n",
    "sns.set_style('whitegrid', {\"grid.color\": \".8\", \"grid.linestyle\": \":\"})\n",
    "plt.rcParams['lines.linewidth'] = 1.5\n",
    "plt.title(\"Dendrogram\", fontsize = 15)  \n",
    "dend = shc.dendrogram(shc.linkage(df_sample, method='ward'))\n",
    "plt.axhline(y=14, color='r', linestyle='--')\n",
    "plt.show()"
   ]
  },
  {
   "cell_type": "markdown",
   "id": "9a653184-7ecf-492c-9b2e-6b4294775995",
   "metadata": {},
   "source": [
    "Interpretation:\n",
    "- If we choose threshold y=18 the line cuts the dendrogram in 4 points - that indicates the number of clusters. This threshold was applied in the process of clustering."
   ]
  },
  {
   "cell_type": "markdown",
   "id": "57a2218f-6f08-4c3f-abca-e1f414f44227",
   "metadata": {},
   "source": [
    "#### Choosing the appropriate number of clusters - Advanced Techniques"
   ]
  },
  {
   "cell_type": "code",
   "execution_count": 63,
   "id": "148d4f52-b7bf-46ca-9385-bfc00d058cb4",
   "metadata": {},
   "outputs": [
    {
     "data": {
      "text/plain": [
       "DBSCAN(eps=4)"
      ]
     },
     "execution_count": 63,
     "metadata": {},
     "output_type": "execute_result"
    }
   ],
   "source": [
    "#k-means with 2 clusters\n",
    "model3 = KMeans(n_clusters=2)\n",
    "model3.fit(df_sample)\n",
    "#dbscan - eps is the distance between two samples - neighborhood\n",
    "model4 = DBSCAN(eps=4)\n",
    "model4.fit(df_sample)"
   ]
  },
  {
   "cell_type": "code",
   "execution_count": 64,
   "id": "00a4b35f-581f-40a7-bf9f-e17413f06549",
   "metadata": {},
   "outputs": [
    {
     "data": {
      "text/plain": [
       "array([1, 0, 0, 0, 0, 1, 0, 1, 1, 0, 0, 0, 1, 0, 0, 0, 0, 0, 0, 0, 1, 0,\n",
       "       0, 0, 0, 0, 0, 0, 1, 0, 1, 0, 1, 0, 0, 0, 0, 0, 0, 1, 0, 0, 0, 0,\n",
       "       0, 1, 0, 0, 0, 1, 0, 0, 0, 0, 0, 0, 0, 0, 0, 0, 0, 0, 0, 0, 1, 0,\n",
       "       1, 0, 0, 0, 0, 1, 0, 1, 1, 1, 0, 0, 0, 0, 0, 1, 0, 0, 0, 0, 1, 1,\n",
       "       0, 0, 0, 0, 1, 0, 0, 0, 0, 1, 1, 0], dtype=int32)"
      ]
     },
     "execution_count": 64,
     "metadata": {},
     "output_type": "execute_result"
    }
   ],
   "source": [
    "#arbitrary assigned numbers to clusters\n",
    "model3.labels_"
   ]
  },
  {
   "cell_type": "code",
   "execution_count": 65,
   "id": "3b006c69-ddb8-4c52-a6b7-87c9ca02ada0",
   "metadata": {},
   "outputs": [
    {
     "data": {
      "text/plain": [
       "array([1, 0, 0, 0, 0, 0, 0, 0, 0, 0, 0, 0, 1, 0, 0, 0, 0, 0, 0, 0, 1, 0,\n",
       "       0, 0, 1, 0, 0, 0, 0, 0, 0, 0, 0, 0, 0, 0, 0, 0, 0, 1, 0, 1, 1, 0,\n",
       "       0, 0, 0, 0, 0, 0, 1, 0, 0, 0, 1, 0, 0, 1, 0, 0, 0, 0, 0, 0, 0, 0,\n",
       "       1, 0, 0, 0, 0, 1, 0, 0, 0, 1, 0, 0, 0, 0, 0, 1, 0, 0, 0, 1, 0, 1,\n",
       "       0, 0, 0, 0, 1, 0, 0, 0, 0, 0, 0, 0])"
      ]
     },
     "execution_count": 65,
     "metadata": {},
     "output_type": "execute_result"
    }
   ],
   "source": [
    "#arbitrary assigned numbers to clusters\n",
    "model4.labels_ = abs(model4.labels_)\n",
    "model4.labels_ "
   ]
  },
  {
   "cell_type": "code",
   "execution_count": 66,
   "id": "eeffcdd0-f1cf-41a1-b779-450954f1b88c",
   "metadata": {},
   "outputs": [
    {
     "name": "stdout",
     "output_type": "stream",
     "text": [
      "0.23 0.28\n"
     ]
    }
   ],
   "source": [
    "kmeans_silhouette1 = silhouette_score(df_sample, model3.labels_).round(2)\n",
    "dbscan_silhouette1 = silhouette_score(df_sample, model4.labels_).round(2)\n",
    "print(kmeans_silhouette1,dbscan_silhouette1)"
   ]
  },
  {
   "cell_type": "code",
   "execution_count": 67,
   "id": "f3cc741f-fdfd-46f6-af38-b8e52723df21",
   "metadata": {},
   "outputs": [],
   "source": [
    "# selecting the same size for plots and same columns as before so we can compare\n",
    "a = df_sample['ArrDelay']\n",
    "b = df_sample['AirTime']"
   ]
  },
  {
   "cell_type": "code",
   "execution_count": 68,
   "id": "9bda6052-b4f8-40f3-9176-1217dce02bde",
   "metadata": {},
   "outputs": [
    {
     "name": "stdout",
     "output_type": "stream",
     "text": [
      "100 100\n"
     ]
    }
   ],
   "source": [
    "print(a.size, b.size)"
   ]
  },
  {
   "cell_type": "code",
   "execution_count": 97,
   "id": "7a2c7494-94ff-4755-bb7d-f99ee3856272",
   "metadata": {},
   "outputs": [
    {
     "data": {
      "image/png": "[encoded data removed]",
      "text/plain": [
       "<Figure size 1080x432 with 2 Axes>"
      ]
     },
     "metadata": {},
     "output_type": "display_data"
    }
   ],
   "source": [
    "#plot the data and cluster silhouette comparison\n",
    "fig, (ax1, ax2) = plt.subplots(1, 2, figsize=(15, 6), sharex=True, sharey=True)\n",
    "fig.suptitle(\"Clustering Algorithm Comparison\", fontsize=15, y=1)\n",
    "fte_colors1 = {0: \"#008fd5\",1: \"#fc4f30\"}\n",
    "fte_colors2 = {0: \"#008fd5\",1: \"#fc4f30\"}\n",
    "\n",
    "#the kmeans plot\n",
    "km_colors = [fte_colors1[label] for label in model3.labels_]\n",
    "ax1.scatter(a, b, c=km_colors)\n",
    "\n",
    "ax1.set_title(f\"K-means\\nSilhouette: {kmeans_silhouette1}\",fontsize=12)\n",
    "#the dbscan plot\n",
    "db_colors = [fte_colors2[label] for label in model4.labels_]\n",
    "ax2.scatter(a, b, c=db_colors)\n",
    "ax2.set_title(f\"DBSCAN\\nSilhouette: {dbscan_silhouette1}\",fontsize=12)\n",
    "\n",
    "plt.show()"
   ]
  },
  {
   "cell_type": "markdown",
   "id": "c7282ca1-bffa-497e-972d-a6842eb94a50",
   "metadata": {},
   "source": [
    "Interpretation:\n",
    "- Silhouette coefficient is representing how close or far data pointa are to each other in one cluster. 1 is the best vaule and -1 is the worst.\n",
    "- DBSCAN appears to have very similar result as K-means.\n",
    "- Silhouette coefficient is better in Density based spacial clustering than in K-means."
   ]
  },
  {
   "cell_type": "markdown",
   "id": "170f357c-9ef6-4c49-8dd1-98f8558885c2",
   "metadata": {},
   "source": [
    "### PCA: Reducing the dimension"
   ]
  },
  {
   "cell_type": "markdown",
   "id": "6166cff9-6d31-4b4a-a333-ce15a5c34ea8",
   "metadata": {},
   "source": [
    "We can reduce the whole dataset to 2D and than perform clustering."
   ]
  },
  {
   "cell_type": "code",
   "execution_count": 128,
   "id": "e6c202a3-07c9-4365-a7d2-dfcb42e3397a",
   "metadata": {},
   "outputs": [
    {
     "data": {
      "text/html": [
       "<div>\n",
       "<style scoped>\n",
       "    .dataframe tbody tr th:only-of-type {\n",
       "        vertical-align: middle;\n",
       "    }\n",
       "\n",
       "    .dataframe tbody tr th {\n",
       "        vertical-align: top;\n",
       "    }\n",
       "\n",
       "    .dataframe thead th {\n",
       "        text-align: right;\n",
       "    }\n",
       "</style>\n",
       "<table border=\"1\" class=\"dataframe\">\n",
       "  <thead>\n",
       "    <tr style=\"text-align: right;\">\n",
       "      <th></th>\n",
       "      <th>Month</th>\n",
       "      <th>DayofMonth</th>\n",
       "      <th>DayOfWeek</th>\n",
       "      <th>DepTime</th>\n",
       "      <th>CRSDepTime</th>\n",
       "      <th>ArrTime</th>\n",
       "      <th>CRSArrTime</th>\n",
       "      <th>ActualElapsedTime</th>\n",
       "      <th>CRSElapsedTime</th>\n",
       "      <th>AirTime</th>\n",
       "      <th>...</th>\n",
       "      <th>Distance</th>\n",
       "      <th>TaxiIn</th>\n",
       "      <th>TaxiOut</th>\n",
       "      <th>Cancelled</th>\n",
       "      <th>Diverted</th>\n",
       "      <th>CarrierDelay</th>\n",
       "      <th>WeatherDelay</th>\n",
       "      <th>NASDelay</th>\n",
       "      <th>SecurityDelay</th>\n",
       "      <th>LateAircraftDelay</th>\n",
       "    </tr>\n",
       "  </thead>\n",
       "  <tbody>\n",
       "    <tr>\n",
       "      <th>95860</th>\n",
       "      <td>-1.616416</td>\n",
       "      <td>-0.089056</td>\n",
       "      <td>-1.017683</td>\n",
       "      <td>0.470116</td>\n",
       "      <td>0.584210</td>\n",
       "      <td>0.523789</td>\n",
       "      <td>0.590595</td>\n",
       "      <td>-0.628063</td>\n",
       "      <td>-0.398670</td>\n",
       "      <td>-0.507976</td>\n",
       "      <td>...</td>\n",
       "      <td>-0.565011</td>\n",
       "      <td>-0.593653</td>\n",
       "      <td>-0.49161</td>\n",
       "      <td>-0.01356</td>\n",
       "      <td>-0.065566</td>\n",
       "      <td>-1.048705e-16</td>\n",
       "      <td>-3.581207e-17</td>\n",
       "      <td>0.000000</td>\n",
       "      <td>0.000000</td>\n",
       "      <td>0.000000</td>\n",
       "    </tr>\n",
       "    <tr>\n",
       "      <th>95861</th>\n",
       "      <td>-1.616416</td>\n",
       "      <td>-0.089056</td>\n",
       "      <td>-1.017683</td>\n",
       "      <td>-0.614940</td>\n",
       "      <td>-0.589394</td>\n",
       "      <td>-0.381135</td>\n",
       "      <td>-0.669609</td>\n",
       "      <td>-0.534841</td>\n",
       "      <td>-0.643516</td>\n",
       "      <td>-0.604552</td>\n",
       "      <td>...</td>\n",
       "      <td>-0.537663</td>\n",
       "      <td>-0.129618</td>\n",
       "      <td>0.30779</td>\n",
       "      <td>-0.01356</td>\n",
       "      <td>-0.065566</td>\n",
       "      <td>-7.473814e-02</td>\n",
       "      <td>-1.865298e-01</td>\n",
       "      <td>-0.264767</td>\n",
       "      <td>-0.021751</td>\n",
       "      <td>-0.710433</td>\n",
       "    </tr>\n",
       "    <tr>\n",
       "      <th>95862</th>\n",
       "      <td>-1.616416</td>\n",
       "      <td>-0.089056</td>\n",
       "      <td>-1.017683</td>\n",
       "      <td>-1.101493</td>\n",
       "      <td>-1.172777</td>\n",
       "      <td>-0.751497</td>\n",
       "      <td>-0.956218</td>\n",
       "      <td>-0.266827</td>\n",
       "      <td>-0.118846</td>\n",
       "      <td>-0.338969</td>\n",
       "      <td>...</td>\n",
       "      <td>-0.436904</td>\n",
       "      <td>-0.593653</td>\n",
       "      <td>0.55376</td>\n",
       "      <td>-0.01356</td>\n",
       "      <td>-0.065566</td>\n",
       "      <td>-1.048705e-16</td>\n",
       "      <td>-3.581207e-17</td>\n",
       "      <td>0.000000</td>\n",
       "      <td>0.000000</td>\n",
       "      <td>0.000000</td>\n",
       "    </tr>\n",
       "  </tbody>\n",
       "</table>\n",
       "<p>3 rows × 24 columns</p>\n",
       "</div>"
      ],
      "text/plain": [
       "          Month  DayofMonth  DayOfWeek   DepTime  CRSDepTime   ArrTime  \\\n",
       "95860 -1.616416   -0.089056  -1.017683  0.470116    0.584210  0.523789   \n",
       "95861 -1.616416   -0.089056  -1.017683 -0.614940   -0.589394 -0.381135   \n",
       "95862 -1.616416   -0.089056  -1.017683 -1.101493   -1.172777 -0.751497   \n",
       "\n",
       "       CRSArrTime  ActualElapsedTime  CRSElapsedTime   AirTime  ...  Distance  \\\n",
       "95860    0.590595          -0.628063       -0.398670 -0.507976  ... -0.565011   \n",
       "95861   -0.669609          -0.534841       -0.643516 -0.604552  ... -0.537663   \n",
       "95862   -0.956218          -0.266827       -0.118846 -0.338969  ... -0.436904   \n",
       "\n",
       "         TaxiIn  TaxiOut  Cancelled  Diverted  CarrierDelay  WeatherDelay  \\\n",
       "95860 -0.593653 -0.49161   -0.01356 -0.065566 -1.048705e-16 -3.581207e-17   \n",
       "95861 -0.129618  0.30779   -0.01356 -0.065566 -7.473814e-02 -1.865298e-01   \n",
       "95862 -0.593653  0.55376   -0.01356 -0.065566 -1.048705e-16 -3.581207e-17   \n",
       "\n",
       "       NASDelay  SecurityDelay  LateAircraftDelay  \n",
       "95860  0.000000       0.000000           0.000000  \n",
       "95861 -0.264767      -0.021751          -0.710433  \n",
       "95862  0.000000       0.000000           0.000000  \n",
       "\n",
       "[3 rows x 24 columns]"
      ]
     },
     "execution_count": 128,
     "metadata": {},
     "output_type": "execute_result"
    }
   ],
   "source": [
    "dfScaled.head(3)"
   ]
  },
  {
   "cell_type": "code",
   "execution_count": 129,
   "id": "26844bc6-f61e-4091-848b-31ab30e2f504",
   "metadata": {},
   "outputs": [],
   "source": [
    "pca = PCA(n_components=2)\n",
    "principalComponents = pca.fit_transform(dfScaled)\n",
    "principalDf = pd.DataFrame(data = principalComponents, columns = ['principal component 1', 'principal component 2'])"
   ]
  },
  {
   "cell_type": "code",
   "execution_count": 130,
   "id": "912d4e6b-4f89-43c4-8651-80362b3c59ba",
   "metadata": {},
   "outputs": [],
   "source": [
    "df_sample2 = principalDf.sample(n = 100)"
   ]
  },
  {
   "cell_type": "markdown",
   "id": "9e6a32e1-ec6d-4e95-b547-0c07d5bccf2f",
   "metadata": {},
   "source": [
    "#### Classification of flights with K-means after rescaling with PCA"
   ]
  },
  {
   "cell_type": "code",
   "execution_count": 131,
   "id": "6d2be1b7-be51-4ba8-899c-a01d8d15b01b",
   "metadata": {},
   "outputs": [
    {
     "data": {
      "text/plain": [
       "3"
      ]
     },
     "execution_count": 131,
     "metadata": {},
     "output_type": "execute_result"
    }
   ],
   "source": [
    "#how many clusters?\n",
    "kmeans_kwargs = {\"init\": \"random\",\"n_init\": 10,\"random_state\": 42}\n",
    "sse = []\n",
    "for k in range(1, 11):\n",
    "    model5elbow = KMeans(n_clusters=k, **kmeans_kwargs)\n",
    "    model5elbow.fit(df_sample2)\n",
    "    sse.append(model5elbow.inertia_)\n",
    "kl = KneeLocator(range(1, 11), sse, curve=\"convex\", direction=\"decreasing\")\n",
    "kl.elbow"
   ]
  },
  {
   "cell_type": "code",
   "execution_count": 132,
   "id": "7a1ead68-3935-4c09-a716-2be8cad9a42c",
   "metadata": {},
   "outputs": [
    {
     "data": {
      "image/png": "[encoded data removed]",
      "text/plain": [
       "<Figure size 576x432 with 1 Axes>"
      ]
     },
     "metadata": {},
     "output_type": "display_data"
    }
   ],
   "source": [
    "#SSE curve or error to check number of clusters\n",
    "kmeans_kwargs = {\"init\": \"random\",\"n_init\": 10,\"random_state\": 42}\n",
    "sse = []\n",
    "for k in range(1, 11):\n",
    "    model5elbow = KMeans(n_clusters=k, **kmeans_kwargs)\n",
    "    model5elbow.fit(df_sample2)\n",
    "    sse.append(model5elbow.inertia_)\n",
    "\n",
    "plt.figure(figsize=(8, 6)) \n",
    "sns.set_style('whitegrid', {\"grid.color\": \".6\", \"grid.linestyle\": \":\"})\n",
    "plt.plot(range(1, 11), sse)\n",
    "plt.xticks(range(1, 11))\n",
    "plt.title(\"SSE curve\", fontsize = 15)\n",
    "plt.xlabel(\"Number of Clusters\",fontsize = 12)\n",
    "plt.ylabel(\"SSE\",fontsize = 12)\n",
    "plt.show()"
   ]
  },
  {
   "cell_type": "markdown",
   "id": "6d8a8bb9-4bb3-4bc1-a796-eac32d01eb2a",
   "metadata": {},
   "source": [
    "Conclusion: The best division will be in 3 clusters."
   ]
  },
  {
   "cell_type": "code",
   "execution_count": 133,
   "id": "fcf76260-0fbf-47bb-ad44-2c62e56a97a0",
   "metadata": {},
   "outputs": [
    {
     "data": {
      "text/plain": [
       "KMeans(init='random', n_clusters=3, random_state=42)"
      ]
     },
     "execution_count": 133,
     "metadata": {},
     "output_type": "execute_result"
    }
   ],
   "source": [
    "#k-means\n",
    "model5 = KMeans(init=\"random\",n_clusters=3,n_init=10,max_iter=300,random_state=42)\n",
    "model5.fit(df_sample2)"
   ]
  },
  {
   "cell_type": "code",
   "execution_count": 134,
   "id": "eba942d2-d699-4173-b494-e7672c67a33c",
   "metadata": {},
   "outputs": [
    {
     "data": {
      "image/png": "[encoded data removed]",
      "text/plain": [
       "<Figure size 576x432 with 1 Axes>"
      ]
     },
     "metadata": {},
     "output_type": "display_data"
    }
   ],
   "source": [
    "#visualisation of clusters\n",
    "centers5 = model5.cluster_centers_\n",
    "\n",
    "plt.figure(figsize=(8, 6)) \n",
    "sns.set_style('whitegrid', {\"grid.color\": \".6\", \"grid.linestyle\": \":\"})\n",
    "fte_colors1 = {0: \"#fc4f30\",1: \"#ffb3b3\",2: \"#008fd5\"}\n",
    "km_colors2 = [fte_colors1[label] for label in model5.labels_]\n",
    "\n",
    "plt.scatter(df_sample2['principal component 1'], df_sample2['principal component 2'], c=km_colors2)\n",
    "plt.scatter(centers5[:, 0], centers5[:, 1], c='black', s=200, alpha=0.5)\n",
    "plt.title(\"K-means clustering with PCA\", fontsize = 15)\n",
    "plt.xlabel(\"Principal component 1\",fontsize = 12)\n",
    "plt.ylabel(\"Principal component 2\",fontsize = 12)\n",
    "plt.show()"
   ]
  },
  {
   "cell_type": "markdown",
   "id": "273337cc-d9aa-4a70-b4a8-7e6e3202a522",
   "metadata": {},
   "source": [
    "#### Classification of flights with hierarchical clustering with PCA"
   ]
  },
  {
   "cell_type": "code",
   "execution_count": 135,
   "id": "c40dd381-4e82-42e7-967a-113528191ae3",
   "metadata": {},
   "outputs": [
    {
     "data": {
      "image/png": "[encoded data removed]",
      "text/plain": [
       "<Figure size 576x432 with 1 Axes>"
      ]
     },
     "metadata": {},
     "output_type": "display_data"
    }
   ],
   "source": [
    "plt.figure(figsize=(8, 6))\n",
    "sns.set_style('whitegrid', {\"grid.color\": \".8\", \"grid.linestyle\": \":\"})\n",
    "plt.rcParams['lines.linewidth'] = 1.5\n",
    "plt.title(\"Dendrogram\", fontsize = 15)  \n",
    "dend = shc.dendrogram(shc.linkage(df_sample2, method='ward'))\n",
    "plt.axhline(y=13, color='r', linestyle='--')\n",
    "plt.show()"
   ]
  },
  {
   "cell_type": "markdown",
   "id": "d2548e11-f7c3-411d-94c2-abf2ced680b5",
   "metadata": {},
   "source": [
    "For the value y=13, the threshold line cuts dendrogram in 3 parts - 3 clusters."
   ]
  },
  {
   "cell_type": "code",
   "execution_count": 136,
   "id": "0daab632-9c4e-4a23-9e6b-efbc24fb3ad2",
   "metadata": {},
   "outputs": [
    {
     "data": {
      "text/plain": [
       "array([2, 0, 1, 0, 2, 0, 0, 2, 0, 0, 1, 2, 1, 2, 1, 0, 1, 1, 2, 2, 0, 1,\n",
       "       0, 1, 0, 1, 1, 0, 2, 0, 2, 0, 0, 2, 0, 2, 0, 2, 0, 0, 0, 2, 0, 2,\n",
       "       0, 0, 1, 0, 2, 1, 0, 1, 0, 0, 0, 2, 1, 1, 2, 0, 1, 0, 0, 0, 1, 0,\n",
       "       0, 0, 0, 2, 1, 1, 0, 2, 0, 2, 1, 1, 1, 0, 1, 0, 1, 2, 2, 1, 1, 0,\n",
       "       0, 0, 1, 2, 0, 1, 1, 0, 0, 1, 1, 1])"
      ]
     },
     "execution_count": 136,
     "metadata": {},
     "output_type": "execute_result"
    }
   ],
   "source": [
    "model6 = AgglomerativeClustering(n_clusters=3, affinity='euclidean', linkage='ward')  \n",
    "model6.fit_predict(df_sample2)"
   ]
  },
  {
   "cell_type": "code",
   "execution_count": 137,
   "id": "ad7f430e-db5f-4d44-9203-5299ce1198ba",
   "metadata": {},
   "outputs": [
    {
     "data": {
      "image/png": "[encoded data removed]",
      "text/plain": [
       "<Figure size 576x432 with 1 Axes>"
      ]
     },
     "metadata": {},
     "output_type": "display_data"
    }
   ],
   "source": [
    "#visualisation of clusters\n",
    "plt.figure(figsize=(8, 6)) \n",
    "sns.set_style('whitegrid', {\"grid.color\": \".6\", \"grid.linestyle\": \":\"})\n",
    "fte_colors = {0: \"#008fd5\",1: \"#ffb3b3\",2: \"#fc4f30\"}\n",
    "\n",
    "hie_colors2 = [fte_colors[label] for label in model6.labels_]\n",
    "plt.scatter(df_sample2['principal component 1'], df_sample2['principal component 2'], c=hie_colors2)\n",
    "plt.title(\"Hierarchical clustering\", fontsize = 15)\n",
    "plt.xlabel(\"Principal component 1\",fontsize = 12)\n",
    "plt.ylabel(\"Principal component 2\",fontsize = 12)\n",
    "plt.show()"
   ]
  },
  {
   "cell_type": "markdown",
   "id": "0abf91af-6411-4e1f-bae6-75f0bc01d1fc",
   "metadata": {},
   "source": [
    "#### Classification DBSCAN with PCA"
   ]
  },
  {
   "cell_type": "code",
   "execution_count": 138,
   "id": "6f5a50dd-1f1f-4994-aa0e-97e77462dd18",
   "metadata": {},
   "outputs": [
    {
     "data": {
      "text/plain": [
       "DBSCAN(eps=2.5)"
      ]
     },
     "execution_count": 138,
     "metadata": {},
     "output_type": "execute_result"
    }
   ],
   "source": [
    "#dbscan - eps is the distance between two samples - neighborhood\n",
    "model7 = DBSCAN(eps=2.5)\n",
    "model7.fit(df_sample)"
   ]
  },
  {
   "cell_type": "code",
   "execution_count": 139,
   "id": "52c822ba-e03f-4071-99b8-16a2aff7e637",
   "metadata": {},
   "outputs": [
    {
     "data": {
      "text/plain": [
       "array([1, 0, 1, 1, 1, 1, 0, 1, 1, 1, 1, 0, 1, 1, 1, 1, 0, 1, 1, 1, 1, 1,\n",
       "       1, 1, 1, 1, 1, 1, 1, 1, 1, 0, 1, 1, 1, 1, 1, 1, 1, 1, 1, 1, 1, 0,\n",
       "       1, 1, 1, 1, 1, 1, 1, 1, 1, 1, 1, 1, 1, 1, 1, 1, 0, 0, 1, 1, 1, 1,\n",
       "       1, 1, 1, 1, 1, 1, 1, 1, 1, 1, 1, 1, 1, 1, 1, 1, 1, 1, 1, 1, 1, 1,\n",
       "       1, 1, 1, 0, 1, 0, 1, 1, 1, 1, 1, 1])"
      ]
     },
     "execution_count": 139,
     "metadata": {},
     "output_type": "execute_result"
    }
   ],
   "source": [
    "model7.labels_ = abs(model7.labels_)\n",
    "model7.labels_ "
   ]
  },
  {
   "cell_type": "code",
   "execution_count": 140,
   "id": "c1fd40ba-9e04-496a-a43c-e243baacf41f",
   "metadata": {},
   "outputs": [
    {
     "data": {
      "image/png": "[encoded data removed]",
      "text/plain": [
       "<Figure size 576x432 with 1 Axes>"
      ]
     },
     "metadata": {},
     "output_type": "display_data"
    }
   ],
   "source": [
    "#visualisation of clusters\n",
    "plt.figure(figsize=(8, 6)) \n",
    "sns.set_style('whitegrid', {\"grid.color\": \".6\", \"grid.linestyle\": \":\"})\n",
    "fte_colors = {0: \"#ffb3b3\",1: \"#008fd5\",2: \"#fc4f30\"}\n",
    "\n",
    "hie_colors2 = [fte_colors[label] for label in model7.labels_]\n",
    "plt.scatter(df_sample2['principal component 1'], df_sample2['principal component 2'], c=hie_colors2)\n",
    "plt.title(\"DBSCAN clustering\", fontsize = 15)\n",
    "plt.xlabel(\"Principal component 1\",fontsize = 12)\n",
    "plt.ylabel(\"Principal component 2\",fontsize = 12)\n",
    "plt.show()"
   ]
  },
  {
   "cell_type": "code",
   "execution_count": 141,
   "id": "dc34ff52-a879-417f-b12f-3fc93ae3eafb",
   "metadata": {},
   "outputs": [
    {
     "name": "stdout",
     "output_type": "stream",
     "text": [
      "0.48 0.47 -0.07\n"
     ]
    }
   ],
   "source": [
    "kmeans_silhouette2 = silhouette_score(df_sample2, model5.labels_).round(2)\n",
    "hierarchical_silhouette2 = silhouette_score(df_sample2, model6.labels_).round(2)\n",
    "dbscan_silhouette2 = silhouette_score(df_sample2, model7.labels_).round(2)\n",
    "print(kmeans_silhouette2,hierarchical_silhouette2,dbscan_silhouette2)"
   ]
  },
  {
   "cell_type": "code",
   "execution_count": 142,
   "id": "e411cd65-2ef1-4dd1-8316-429a06b70a24",
   "metadata": {},
   "outputs": [],
   "source": [
    "c = df_sample2['principal component 1']\n",
    "d = df_sample2['principal component 2']"
   ]
  },
  {
   "cell_type": "code",
   "execution_count": 143,
   "id": "594f7d20-d55d-4cd1-8be9-f0416d2178da",
   "metadata": {},
   "outputs": [
    {
     "data": {
      "image/png": "[encoded data removed]",
      "text/plain": [
       "<Figure size 1080x432 with 3 Axes>"
      ]
     },
     "metadata": {},
     "output_type": "display_data"
    }
   ],
   "source": [
    "#plot the data and cluster silhouette comparison\n",
    "fig, (ax1, ax2, ax3) = plt.subplots(1, 3, figsize=(15, 6), sharex=True, sharey=True)\n",
    "fig.suptitle(\"Clustering Algorithm Comparison\", fontsize=15, y=1)\n",
    "fte_colors5 = {0: \"#fc4f30\",1: \"#ffb3b3\",2: \"#008fd5\"}\n",
    "fte_colors6 = {0: \"#fc4f30\",1: \"#008fd5\",2: \"#ffb3b3\"}\n",
    "fte_colors7 = {0: \"#ffb3b3\",1: \"#008fd5\",2: \"#fc4f30\",3: \"#fc4f30\"}\n",
    "\n",
    "#the k-means plot\n",
    "km_colors = [fte_colors5[label] for label in model5.labels_]\n",
    "ax1.scatter(c, d, c=km_colors)\n",
    "ax1.set_title(f\"K-means\\nSilhouette: {kmeans_silhouette2}\",fontsize=12)\n",
    "#the hierarchical plot\n",
    "hie_colors = [fte_colors6[label] for label in model6.labels_]\n",
    "ax2.scatter(c, d, c=hie_colors)\n",
    "ax2.set_title(f\"Hierarchical\\nSilhouette: {hierarchical_silhouette2}\",fontsize=12)\n",
    "#the dbscan plot\n",
    "db_colors = [fte_colors7[label] for label in model7.labels_]\n",
    "ax3.scatter(c, d, c=db_colors)\n",
    "ax3.set_title(f\"DBSCAN\\nSilhouette: {dbscan_silhouette2}\",fontsize=12)\n",
    "\n",
    "plt.show()"
   ]
  },
  {
   "cell_type": "markdown",
   "id": "6211fe01-0f56-4279-86f6-fe9d9cd05ba1",
   "metadata": {},
   "source": [
    "Conclusion:\n",
    "- Hierarchical clustering and K-means gives better results than DBSCAN. \n",
    "- DBSCAN is not performing well because data are overlapped."
   ]
  },
  {
   "cell_type": "markdown",
   "id": "9066ac1b-ebdd-4a7f-ba11-feac8e2210d6",
   "metadata": {},
   "source": [
    "#### Building a K-Means Clustering Pipeline"
   ]
  },
  {
   "cell_type": "markdown",
   "id": "8f3ec884-7f9e-4451-9094-e4e5dd0e842f",
   "metadata": {},
   "source": [
    "Process:\n",
    "- Change the data to have flight-numbers also inside the scaled dataset.\n",
    "- Cluster assignation to each particular flight."
   ]
  },
  {
   "cell_type": "code",
   "execution_count": 144,
   "id": "55254afd-a355-4d47-9a43-20c5a223d080",
   "metadata": {},
   "outputs": [
    {
     "name": "stdout",
     "output_type": "stream",
     "text": [
      "95860      89\n",
      "95861       9\n",
      "95862      53\n",
      "95863      81\n",
      "95864      10\n",
      "           ..\n",
      "1936753    66\n",
      "1936754    57\n",
      "1936755     9\n",
      "1936756    72\n",
      "1936757    79\n",
      "Name: Origin, Length: 114238, dtype: int64 95860       9\n",
      "95861      14\n",
      "95862       9\n",
      "95863      10\n",
      "95864      89\n",
      "           ..\n",
      "1936753     9\n",
      "1936754     9\n",
      "1936755    26\n",
      "1936756     9\n",
      "1936757     9\n",
      "Name: Dest, Length: 114238, dtype: int64\n"
     ]
    }
   ],
   "source": [
    "#repeting some parts of data processing from before\n",
    "#selecting \n",
    "df_flights = df.loc[df['UniqueCarrier'] == 'DL']\n",
    "\n",
    "#clean the data, feature I will not use, for clustering I will select only numeric features\n",
    "df_flights.drop(['Unnamed: 0','Year','TailNum','CancellationCode','UniqueCarrier'],axis=1, inplace=True)\n",
    "\n",
    "#list of all airports\n",
    "first_list = cat_df_flights['Origin'].tolist()\n",
    "second_list = cat_df_flights['Dest'].tolist()\n",
    "resultList= list(set(first_list) | set(second_list))\n",
    "labels = resultList\n",
    "\n",
    "replace_map1 = {'Origin' : {k: v for k,v in zip(labels,list(range(1,len(labels)+1)))}}\n",
    "replace_map2 = {'Dest' : {k: v for k,v in zip(labels,list(range(1,len(labels)+1)))}}\n",
    "\n",
    "df_flights.replace(replace_map1, inplace=True)\n",
    "df_flights.replace(replace_map2, inplace=True)\n",
    "print(df_flights['Origin'],df_flights['Dest'])\n",
    "\n",
    "#calculating mean value for missing data\n",
    "def myfunc(x):\n",
    "    df_flights[x]=df_flights[x].fillna(df_flights[x].mean())\n",
    "\n",
    "mylist = ['ArrTime','ActualElapsedTime','AirTime','ArrDelay',\n",
    "          'TaxiIn','TaxiOut','CarrierDelay','WeatherDelay',\n",
    "          'NASDelay','SecurityDelay','LateAircraftDelay']\n",
    "for x in mylist:\n",
    "    myfunc(x)"
   ]
  },
  {
   "cell_type": "code",
   "execution_count": 145,
   "id": "c43b6b3a-c27e-483a-89b0-d1c2273a87e8",
   "metadata": {},
   "outputs": [],
   "source": [
    "x = df_flights.drop('FlightNum',axis=1)\n",
    "y = df_flights['FlightNum']"
   ]
  },
  {
   "cell_type": "code",
   "execution_count": 146,
   "id": "e8668e96-a675-417d-a3de-ec088fcf7316",
   "metadata": {},
   "outputs": [
    {
     "data": {
      "text/html": [
       "<div>\n",
       "<style scoped>\n",
       "    .dataframe tbody tr th:only-of-type {\n",
       "        vertical-align: middle;\n",
       "    }\n",
       "\n",
       "    .dataframe tbody tr th {\n",
       "        vertical-align: top;\n",
       "    }\n",
       "\n",
       "    .dataframe thead th {\n",
       "        text-align: right;\n",
       "    }\n",
       "</style>\n",
       "<table border=\"1\" class=\"dataframe\">\n",
       "  <thead>\n",
       "    <tr style=\"text-align: right;\">\n",
       "      <th></th>\n",
       "      <th>Month</th>\n",
       "      <th>DayofMonth</th>\n",
       "      <th>DayOfWeek</th>\n",
       "      <th>DepTime</th>\n",
       "      <th>CRSDepTime</th>\n",
       "      <th>ArrTime</th>\n",
       "      <th>CRSArrTime</th>\n",
       "      <th>ActualElapsedTime</th>\n",
       "      <th>CRSElapsedTime</th>\n",
       "      <th>AirTime</th>\n",
       "      <th>...</th>\n",
       "      <th>Distance</th>\n",
       "      <th>TaxiIn</th>\n",
       "      <th>TaxiOut</th>\n",
       "      <th>Cancelled</th>\n",
       "      <th>Diverted</th>\n",
       "      <th>CarrierDelay</th>\n",
       "      <th>WeatherDelay</th>\n",
       "      <th>NASDelay</th>\n",
       "      <th>SecurityDelay</th>\n",
       "      <th>LateAircraftDelay</th>\n",
       "    </tr>\n",
       "  </thead>\n",
       "  <tbody>\n",
       "    <tr>\n",
       "      <th>95860</th>\n",
       "      <td>-1.616416</td>\n",
       "      <td>-0.089056</td>\n",
       "      <td>-1.017683</td>\n",
       "      <td>0.470116</td>\n",
       "      <td>0.584210</td>\n",
       "      <td>0.523789</td>\n",
       "      <td>0.590595</td>\n",
       "      <td>-0.628063</td>\n",
       "      <td>-0.398670</td>\n",
       "      <td>-0.507976</td>\n",
       "      <td>...</td>\n",
       "      <td>-0.565011</td>\n",
       "      <td>-0.593653</td>\n",
       "      <td>-0.49161</td>\n",
       "      <td>-0.01356</td>\n",
       "      <td>-0.065566</td>\n",
       "      <td>-1.048705e-16</td>\n",
       "      <td>-3.581207e-17</td>\n",
       "      <td>0.000000</td>\n",
       "      <td>0.000000</td>\n",
       "      <td>0.000000</td>\n",
       "    </tr>\n",
       "    <tr>\n",
       "      <th>95861</th>\n",
       "      <td>-1.616416</td>\n",
       "      <td>-0.089056</td>\n",
       "      <td>-1.017683</td>\n",
       "      <td>-0.614940</td>\n",
       "      <td>-0.589394</td>\n",
       "      <td>-0.381135</td>\n",
       "      <td>-0.669609</td>\n",
       "      <td>-0.534841</td>\n",
       "      <td>-0.643516</td>\n",
       "      <td>-0.604552</td>\n",
       "      <td>...</td>\n",
       "      <td>-0.537663</td>\n",
       "      <td>-0.129618</td>\n",
       "      <td>0.30779</td>\n",
       "      <td>-0.01356</td>\n",
       "      <td>-0.065566</td>\n",
       "      <td>-7.473814e-02</td>\n",
       "      <td>-1.865298e-01</td>\n",
       "      <td>-0.264767</td>\n",
       "      <td>-0.021751</td>\n",
       "      <td>-0.710433</td>\n",
       "    </tr>\n",
       "    <tr>\n",
       "      <th>95862</th>\n",
       "      <td>-1.616416</td>\n",
       "      <td>-0.089056</td>\n",
       "      <td>-1.017683</td>\n",
       "      <td>-1.101493</td>\n",
       "      <td>-1.172777</td>\n",
       "      <td>-0.751497</td>\n",
       "      <td>-0.956218</td>\n",
       "      <td>-0.266827</td>\n",
       "      <td>-0.118846</td>\n",
       "      <td>-0.338969</td>\n",
       "      <td>...</td>\n",
       "      <td>-0.436904</td>\n",
       "      <td>-0.593653</td>\n",
       "      <td>0.55376</td>\n",
       "      <td>-0.01356</td>\n",
       "      <td>-0.065566</td>\n",
       "      <td>-1.048705e-16</td>\n",
       "      <td>-3.581207e-17</td>\n",
       "      <td>0.000000</td>\n",
       "      <td>0.000000</td>\n",
       "      <td>0.000000</td>\n",
       "    </tr>\n",
       "  </tbody>\n",
       "</table>\n",
       "<p>3 rows × 24 columns</p>\n",
       "</div>"
      ],
      "text/plain": [
       "          Month  DayofMonth  DayOfWeek   DepTime  CRSDepTime   ArrTime  \\\n",
       "95860 -1.616416   -0.089056  -1.017683  0.470116    0.584210  0.523789   \n",
       "95861 -1.616416   -0.089056  -1.017683 -0.614940   -0.589394 -0.381135   \n",
       "95862 -1.616416   -0.089056  -1.017683 -1.101493   -1.172777 -0.751497   \n",
       "\n",
       "       CRSArrTime  ActualElapsedTime  CRSElapsedTime   AirTime  ...  Distance  \\\n",
       "95860    0.590595          -0.628063       -0.398670 -0.507976  ... -0.565011   \n",
       "95861   -0.669609          -0.534841       -0.643516 -0.604552  ... -0.537663   \n",
       "95862   -0.956218          -0.266827       -0.118846 -0.338969  ... -0.436904   \n",
       "\n",
       "         TaxiIn  TaxiOut  Cancelled  Diverted  CarrierDelay  WeatherDelay  \\\n",
       "95860 -0.593653 -0.49161   -0.01356 -0.065566 -1.048705e-16 -3.581207e-17   \n",
       "95861 -0.129618  0.30779   -0.01356 -0.065566 -7.473814e-02 -1.865298e-01   \n",
       "95862 -0.593653  0.55376   -0.01356 -0.065566 -1.048705e-16 -3.581207e-17   \n",
       "\n",
       "       NASDelay  SecurityDelay  LateAircraftDelay  \n",
       "95860  0.000000       0.000000           0.000000  \n",
       "95861 -0.264767      -0.021751          -0.710433  \n",
       "95862  0.000000       0.000000           0.000000  \n",
       "\n",
       "[3 rows x 24 columns]"
      ]
     },
     "execution_count": 146,
     "metadata": {},
     "output_type": "execute_result"
    }
   ],
   "source": [
    "#standartization\n",
    "scaler = StandardScaler()\n",
    "dfScaled2 = x\n",
    "dfScaled2[dfScaled2.columns] = scaler.fit_transform(dfScaled2[dfScaled2.columns])\n",
    "dfScaled2.head(3)"
   ]
  },
  {
   "cell_type": "code",
   "execution_count": 147,
   "id": "2c263cce-6049-4daa-8bb3-6981ceebf313",
   "metadata": {},
   "outputs": [
    {
     "data": {
      "text/html": [
       "<div>\n",
       "<style scoped>\n",
       "    .dataframe tbody tr th:only-of-type {\n",
       "        vertical-align: middle;\n",
       "    }\n",
       "\n",
       "    .dataframe tbody tr th {\n",
       "        vertical-align: top;\n",
       "    }\n",
       "\n",
       "    .dataframe thead th {\n",
       "        text-align: right;\n",
       "    }\n",
       "</style>\n",
       "<table border=\"1\" class=\"dataframe\">\n",
       "  <thead>\n",
       "    <tr style=\"text-align: right;\">\n",
       "      <th></th>\n",
       "      <th>Month</th>\n",
       "      <th>DayofMonth</th>\n",
       "      <th>DayOfWeek</th>\n",
       "      <th>DepTime</th>\n",
       "      <th>CRSDepTime</th>\n",
       "      <th>ArrTime</th>\n",
       "      <th>CRSArrTime</th>\n",
       "      <th>ActualElapsedTime</th>\n",
       "      <th>CRSElapsedTime</th>\n",
       "      <th>AirTime</th>\n",
       "      <th>...</th>\n",
       "      <th>TaxiIn</th>\n",
       "      <th>TaxiOut</th>\n",
       "      <th>Cancelled</th>\n",
       "      <th>Diverted</th>\n",
       "      <th>CarrierDelay</th>\n",
       "      <th>WeatherDelay</th>\n",
       "      <th>NASDelay</th>\n",
       "      <th>SecurityDelay</th>\n",
       "      <th>LateAircraftDelay</th>\n",
       "      <th>FlightNum</th>\n",
       "    </tr>\n",
       "  </thead>\n",
       "  <tbody>\n",
       "    <tr>\n",
       "      <th>95860</th>\n",
       "      <td>-1.616416</td>\n",
       "      <td>-0.089056</td>\n",
       "      <td>-1.017683</td>\n",
       "      <td>0.470116</td>\n",
       "      <td>0.584210</td>\n",
       "      <td>0.523789</td>\n",
       "      <td>0.590595</td>\n",
       "      <td>-0.628063</td>\n",
       "      <td>-0.398670</td>\n",
       "      <td>-0.507976</td>\n",
       "      <td>...</td>\n",
       "      <td>-0.593653</td>\n",
       "      <td>-0.49161</td>\n",
       "      <td>-0.01356</td>\n",
       "      <td>-0.065566</td>\n",
       "      <td>-1.048705e-16</td>\n",
       "      <td>-3.581207e-17</td>\n",
       "      <td>0.000000</td>\n",
       "      <td>0.000000</td>\n",
       "      <td>0.000000</td>\n",
       "      <td>1079</td>\n",
       "    </tr>\n",
       "    <tr>\n",
       "      <th>95861</th>\n",
       "      <td>-1.616416</td>\n",
       "      <td>-0.089056</td>\n",
       "      <td>-1.017683</td>\n",
       "      <td>-0.614940</td>\n",
       "      <td>-0.589394</td>\n",
       "      <td>-0.381135</td>\n",
       "      <td>-0.669609</td>\n",
       "      <td>-0.534841</td>\n",
       "      <td>-0.643516</td>\n",
       "      <td>-0.604552</td>\n",
       "      <td>...</td>\n",
       "      <td>-0.129618</td>\n",
       "      <td>0.30779</td>\n",
       "      <td>-0.01356</td>\n",
       "      <td>-0.065566</td>\n",
       "      <td>-7.473814e-02</td>\n",
       "      <td>-1.865298e-01</td>\n",
       "      <td>-0.264767</td>\n",
       "      <td>-0.021751</td>\n",
       "      <td>-0.710433</td>\n",
       "      <td>1099</td>\n",
       "    </tr>\n",
       "    <tr>\n",
       "      <th>95862</th>\n",
       "      <td>-1.616416</td>\n",
       "      <td>-0.089056</td>\n",
       "      <td>-1.017683</td>\n",
       "      <td>-1.101493</td>\n",
       "      <td>-1.172777</td>\n",
       "      <td>-0.751497</td>\n",
       "      <td>-0.956218</td>\n",
       "      <td>-0.266827</td>\n",
       "      <td>-0.118846</td>\n",
       "      <td>-0.338969</td>\n",
       "      <td>...</td>\n",
       "      <td>-0.593653</td>\n",
       "      <td>0.55376</td>\n",
       "      <td>-0.01356</td>\n",
       "      <td>-0.065566</td>\n",
       "      <td>-1.048705e-16</td>\n",
       "      <td>-3.581207e-17</td>\n",
       "      <td>0.000000</td>\n",
       "      <td>0.000000</td>\n",
       "      <td>0.000000</td>\n",
       "      <td>1135</td>\n",
       "    </tr>\n",
       "  </tbody>\n",
       "</table>\n",
       "<p>3 rows × 25 columns</p>\n",
       "</div>"
      ],
      "text/plain": [
       "          Month  DayofMonth  DayOfWeek   DepTime  CRSDepTime   ArrTime  \\\n",
       "95860 -1.616416   -0.089056  -1.017683  0.470116    0.584210  0.523789   \n",
       "95861 -1.616416   -0.089056  -1.017683 -0.614940   -0.589394 -0.381135   \n",
       "95862 -1.616416   -0.089056  -1.017683 -1.101493   -1.172777 -0.751497   \n",
       "\n",
       "       CRSArrTime  ActualElapsedTime  CRSElapsedTime   AirTime  ...    TaxiIn  \\\n",
       "95860    0.590595          -0.628063       -0.398670 -0.507976  ... -0.593653   \n",
       "95861   -0.669609          -0.534841       -0.643516 -0.604552  ... -0.129618   \n",
       "95862   -0.956218          -0.266827       -0.118846 -0.338969  ... -0.593653   \n",
       "\n",
       "       TaxiOut  Cancelled  Diverted  CarrierDelay  WeatherDelay  NASDelay  \\\n",
       "95860 -0.49161   -0.01356 -0.065566 -1.048705e-16 -3.581207e-17  0.000000   \n",
       "95861  0.30779   -0.01356 -0.065566 -7.473814e-02 -1.865298e-01 -0.264767   \n",
       "95862  0.55376   -0.01356 -0.065566 -1.048705e-16 -3.581207e-17  0.000000   \n",
       "\n",
       "       SecurityDelay  LateAircraftDelay  FlightNum  \n",
       "95860       0.000000           0.000000       1079  \n",
       "95861      -0.021751          -0.710433       1099  \n",
       "95862       0.000000           0.000000       1135  \n",
       "\n",
       "[3 rows x 25 columns]"
      ]
     },
     "execution_count": 147,
     "metadata": {},
     "output_type": "execute_result"
    }
   ],
   "source": [
    "#join datasets\n",
    "df_final = pd.concat([dfScaled2, y], axis=1)\n",
    "df_final.head(3)"
   ]
  },
  {
   "cell_type": "code",
   "execution_count": 148,
   "id": "0c55770f-cb5d-4e8d-be17-84ea330267f4",
   "metadata": {},
   "outputs": [
    {
     "data": {
      "text/plain": [
       "(10, 25)"
      ]
     },
     "execution_count": 148,
     "metadata": {},
     "output_type": "execute_result"
    }
   ],
   "source": [
    "#new sample of 10 values and changing to arrays\n",
    "df_sample3 = df_final.sample(n = 10)\n",
    "data = df_sample3.to_numpy()\n",
    "data.shape"
   ]
  },
  {
   "cell_type": "code",
   "execution_count": 149,
   "id": "3f84c2bd-1546-48f8-b5a6-8ee65e2e37ca",
   "metadata": {},
   "outputs": [
    {
     "data": {
      "text/plain": [
       "(10,)"
      ]
     },
     "execution_count": 149,
     "metadata": {},
     "output_type": "execute_result"
    }
   ],
   "source": [
    "x = list(y)\n",
    "true_label_names = np.array(df_sample3['FlightNum'])\n",
    "true_label_names.shape"
   ]
  },
  {
   "cell_type": "code",
   "execution_count": 150,
   "id": "0f4adbd0-778c-4cbb-bfc6-275750b71680",
   "metadata": {},
   "outputs": [
    {
     "data": {
      "text/plain": [
       "array([2, 6, 9, 3, 0])"
      ]
     },
     "execution_count": 150,
     "metadata": {},
     "output_type": "execute_result"
    }
   ],
   "source": [
    "#converting the abbreviations of labels to integers with LabelEncoder\n",
    "label_encoder = LabelEncoder()\n",
    "true_labels = label_encoder.fit_transform(true_label_names)\n",
    "true_labels[:5]"
   ]
  },
  {
   "cell_type": "code",
   "execution_count": 151,
   "id": "0a59f928-cd2e-41fa-8862-27a97f7687b8",
   "metadata": {},
   "outputs": [
    {
     "data": {
      "text/plain": [
       "array([  61,  403,  731,  748,  820,  850, 1018, 1039, 1265, 1489])"
      ]
     },
     "execution_count": 151,
     "metadata": {},
     "output_type": "execute_result"
    }
   ],
   "source": [
    "label_encoder.classes_"
   ]
  },
  {
   "cell_type": "code",
   "execution_count": 152,
   "id": "e80647aa-0dfa-4bfe-b0d6-45248cd2222f",
   "metadata": {},
   "outputs": [],
   "source": [
    "n_clusters = len(label_encoder.classes_)"
   ]
  },
  {
   "cell_type": "code",
   "execution_count": 153,
   "id": "fd86ae4b-e01c-479f-9635-d3972b0d7873",
   "metadata": {},
   "outputs": [],
   "source": [
    "#preprocessing pipeline with PCA\n",
    "preprocessor = Pipeline([(\"scaler\", MinMaxScaler()),(\"pca\", PCA(n_components=2, random_state=42))])"
   ]
  },
  {
   "cell_type": "code",
   "execution_count": 154,
   "id": "9a8e6b7c-dc44-415b-9a45-9e1cb57b761a",
   "metadata": {},
   "outputs": [],
   "source": [
    "#k-means clustering with constructor\n",
    "clusterer = Pipeline([(\"kmeans\",KMeans(n_clusters=3,\n",
    "                                       init=\"random\",n_init=10,\n",
    "                                       max_iter=500,random_state=42))])"
   ]
  },
  {
   "cell_type": "code",
   "execution_count": 155,
   "id": "1e74ed54-aa68-4284-8e9b-f2ded7a46a99",
   "metadata": {},
   "outputs": [
    {
     "data": {
      "text/plain": [
       "Pipeline(steps=[('preprocessor',\n",
       "                 Pipeline(steps=[('scaler', MinMaxScaler()),\n",
       "                                 ('pca',\n",
       "                                  PCA(n_components=2, random_state=42))])),\n",
       "                ('clusterer',\n",
       "                 Pipeline(steps=[('kmeans',\n",
       "                                  KMeans(init='random', max_iter=500,\n",
       "                                         n_clusters=3, random_state=42))]))])"
      ]
     },
     "execution_count": 155,
     "metadata": {},
     "output_type": "execute_result"
    }
   ],
   "source": [
    "#end-to-end pipline\n",
    "pipe = Pipeline([(\"preprocessor\", preprocessor),(\"clusterer\", clusterer)])\n",
    "pipe.fit(data)"
   ]
  },
  {
   "cell_type": "code",
   "execution_count": 156,
   "id": "47df8320-c84f-469a-91f2-ec6f0265249d",
   "metadata": {
    "tags": []
   },
   "outputs": [
    {
     "data": {
      "text/plain": [
       "0.61"
      ]
     },
     "execution_count": 156,
     "metadata": {},
     "output_type": "execute_result"
    }
   ],
   "source": [
    "preprocessed_data = pipe[\"preprocessor\"].transform(data)\n",
    "predicted_labels = pipe[\"clusterer\"][\"kmeans\"].labels_\n",
    "silhouette_score(preprocessed_data, predicted_labels).round(2)"
   ]
  },
  {
   "cell_type": "code",
   "execution_count": 157,
   "id": "5c89aea9-15a8-4d14-a44a-44dd09bd7711",
   "metadata": {},
   "outputs": [
    {
     "data": {
      "text/plain": [
       "(10,)"
      ]
     },
     "execution_count": 157,
     "metadata": {},
     "output_type": "execute_result"
    }
   ],
   "source": [
    "true_labels.shape"
   ]
  },
  {
   "cell_type": "code",
   "execution_count": 158,
   "id": "f14393de-16c7-4ddf-bc82-b8b5c27c65a4",
   "metadata": {},
   "outputs": [
    {
     "data": {
      "text/plain": [
       "(10,)"
      ]
     },
     "execution_count": 158,
     "metadata": {},
     "output_type": "execute_result"
    }
   ],
   "source": [
    "predicted_labels.shape"
   ]
  },
  {
   "cell_type": "code",
   "execution_count": 159,
   "id": "a8a2e73f-43ea-4213-b1dd-6bef732a58a3",
   "metadata": {},
   "outputs": [
    {
     "data": {
      "text/plain": [
       "0.0"
      ]
     },
     "execution_count": 159,
     "metadata": {},
     "output_type": "execute_result"
    }
   ],
   "source": [
    "adjusted_rand_score(true_labels, predicted_labels)"
   ]
  },
  {
   "cell_type": "code",
   "execution_count": 160,
   "id": "13815163-724f-4c64-bdf9-ef2b1ebde035",
   "metadata": {},
   "outputs": [
    {
     "data": {
      "image/png": "[encoded data removed]",
      "text/plain": [
       "<Figure size 576x432 with 1 Axes>"
      ]
     },
     "metadata": {},
     "output_type": "display_data"
    }
   ],
   "source": [
    "plt.figure(figsize=(8, 6)) \n",
    "sns.set_style('whitegrid', {\"grid.color\": \".6\", \"grid.linestyle\": \":\"})\n",
    "\n",
    "pcadf = pd.DataFrame(\n",
    "    pipe[\"preprocessor\"].transform(data),\n",
    "    columns=[\"component_1\", \"component_2\"])\n",
    "\n",
    "pcadf[\"predicted_cluster\"] = pipe[\"clusterer\"][\"kmeans\"].labels_\n",
    "pcadf[\"true_label\"] = label_encoder.inverse_transform(true_labels)\n",
    "\n",
    "scat = sns.scatterplot(\n",
    "    \"component_1\",\n",
    "    \"component_2\",\n",
    "    s=100,\n",
    "    data=pcadf,\n",
    "    hue=\"predicted_cluster\",\n",
    "    style=\"true_label\",\n",
    "    palette=\"Set2\")\n",
    "\n",
    "scat.set_title(\"Clustering results from Delta Air Lines Flights\", fontsize=15)\n",
    "plt.xlabel(\"Component 1\",fontsize=12)\n",
    "plt.ylabel(\"Component 2\",fontsize=12)\n",
    "plt.legend(bbox_to_anchor=(1.05, 1), loc=2, borderaxespad=0.0)\n",
    "\n",
    "plt.show()"
   ]
  },
  {
   "cell_type": "markdown",
   "id": "740240d4-8517-458e-9a54-db0651f24099",
   "metadata": {},
   "source": [
    "Conclusion:\n",
    "- Pipline can help to do several steps together: PCA, clustering and fitting data.\n",
    "- The diagram showing each flight assignation would be interesting for further study - for exemple we could compare flight samples of two and more companies.\n",
    "- Also with this diagram, we could study un more detail the characteristics of each cluster."
   ]
  },
  {
   "cell_type": "markdown",
   "id": "01496d54-0170-4f13-a4a9-8cdd56935f2f",
   "metadata": {},
   "source": [
    "#### Notes\n",
    "* ML Unsupervised algorithms\n",
    "    - https://towardsdatascience.com/the-5-clustering-algorithms-data-scientists-need-to-know-a36d136ef68\n",
    "* K-Means and evaluation techniques\n",
    "    - https://realpython.com/k-means-clustering-python/\n",
    "* Hierarchical Agglomerative Clustering\n",
    "    - https://towardsdatascience.com/machine-learning-algorithms-part-12-hierarchical-agglomerative-clustering-example-in-python-1e18e0075019\n",
    "    - https://www.analyticsvidhya.com/blog/2019/05/beginners-guide-hierarchical-clustering/\n",
    "* PCA\n",
    "    - https://towardsdatascience.com/pca-using-python-scikit-learn-e653f8989e60\n",
    "    - https://jakevdp.github.io/PythonDataScienceHandbook/05.09-principal-component-analysis.html"
   ]
  }
 ],
 "metadata": {
  "kernelspec": {
   "display_name": "Python 3",
   "language": "python",
   "name": "python3"
  },
  "language_info": {
   "codemirror_mode": {
    "name": "ipython",
    "version": 3
   },
   "file_extension": ".py",
   "mimetype": "text/x-python",
   "name": "python",
   "nbconvert_exporter": "python",
   "pygments_lexer": "ipython3",
   "version": "3.8.8"
  }
 },
 "nbformat": 4,
 "nbformat_minor": 5
}
